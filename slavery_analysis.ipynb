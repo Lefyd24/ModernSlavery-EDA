{
 "cells": [
  {
   "cell_type": "markdown",
   "metadata": {},
   "source": [
    "# Exploring the Drivers of Modern Slavery\n",
    "\n",
    "Even though slavery is illegal, forty million people are estimated to live under some form of modern slavery across the globe. These forms of modern slavery include a wide variety of practices such as forced labour, debt bondage, forced marriage, sexual exploitation, bonded labour, and human trafficking.\n",
    " \n",
    "Researchers have been trying to estimate the prevalence of modern slavery, as well as factors that can help with this prediction. Machine Learning techniques can help in this endeavour, as has been shown in the following publication:\n",
    "\n",
    "* Lavelle-Hill, R., Smith, G., Mazumder, A. et al. Machine learning methods for \"wicked\" problems: exploring the complex drivers of modern slavery. Humanities and Social Sciences Communications 8, 274 (2021). https://doi.org/10.1057/s41599-021-00938-z"
   ]
  },
  {
   "cell_type": "code",
   "execution_count": 7,
   "metadata": {},
   "outputs": [],
   "source": [
    "import pandas as pd\n",
    "import sklearn as sk\n",
    "from warnings import filterwarnings\n",
    "filterwarnings('ignore')"
   ]
  },
  {
   "cell_type": "code",
   "execution_count": 2,
   "metadata": {},
   "outputs": [
    {
     "data": {
      "application/vnd.microsoft.datawrangler.viewer.v0+json": {
       "columns": [
        {
         "name": "index",
         "rawType": "int64",
         "type": "integer"
        },
        {
         "name": "Country",
         "rawType": "object",
         "type": "string"
        },
        {
         "name": "Data_year",
         "rawType": "datetime64[ns]",
         "type": "datetime"
        },
        {
         "name": "Region",
         "rawType": "object",
         "type": "string"
        },
        {
         "name": "KOF_Globalis",
         "rawType": "float64",
         "type": "float"
        },
        {
         "name": "Work_rightCIRI",
         "rawType": "int64",
         "type": "integer"
        },
        {
         "name": "Trade_open",
         "rawType": "float64",
         "type": "float"
        },
        {
         "name": "FDI",
         "rawType": "float64",
         "type": "float"
        },
        {
         "name": "VDEM_Libdem",
         "rawType": "float64",
         "type": "float"
        },
        {
         "name": "GDPpc_2016",
         "rawType": "int64",
         "type": "integer"
        },
        {
         "name": "Armedcon",
         "rawType": "int64",
         "type": "integer"
        },
        {
         "name": "Asia",
         "rawType": "int64",
         "type": "integer"
        },
        {
         "name": "Subsah_Africa",
         "rawType": "int64",
         "type": "integer"
        },
        {
         "name": "Americas",
         "rawType": "int64",
         "type": "integer"
        },
        {
         "name": "Europe",
         "rawType": "int64",
         "type": "integer"
        },
        {
         "name": "M_East_N_Africa",
         "rawType": "int64",
         "type": "integer"
        },
        {
         "name": "Russia_Eurasia",
         "rawType": "int64",
         "type": "integer"
        },
        {
         "name": "Pol_terror",
         "rawType": "float64",
         "type": "float"
        },
        {
         "name": "SLAVERY",
         "rawType": "float64",
         "type": "float"
        },
        {
         "name": "SDGI_2016",
         "rawType": "float64",
         "type": "float"
        },
        {
         "name": "Poverty",
         "rawType": "float64",
         "type": "float"
        },
        {
         "name": "Cereal_yield",
         "rawType": "float64",
         "type": "float"
        },
        {
         "name": "Stunting_u5s",
         "rawType": "float64",
         "type": "float"
        },
        {
         "name": "Undernourish",
         "rawType": "float64",
         "type": "float"
        },
        {
         "name": "Wasting_u5s",
         "rawType": "float64",
         "type": "float"
        },
        {
         "name": "Life_expect",
         "rawType": "int64",
         "type": "integer"
        },
        {
         "name": "Maternal_mort",
         "rawType": "int64",
         "type": "integer"
        },
        {
         "name": "Neonatal_mort",
         "rawType": "float64",
         "type": "float"
        },
        {
         "name": "Wellbeing",
         "rawType": "float64",
         "type": "float"
        },
        {
         "name": "Tuberculosis",
         "rawType": "float64",
         "type": "float"
        },
        {
         "name": "Infant_mort",
         "rawType": "float64",
         "type": "float"
        },
        {
         "name": "Infant_vaccines",
         "rawType": "int64",
         "type": "integer"
        },
        {
         "name": "Literacy_15_24yrs",
         "rawType": "float64",
         "type": "float"
        },
        {
         "name": "Primary_school",
         "rawType": "float64",
         "type": "float"
        },
        {
         "name": "Yrs_of_school",
         "rawType": "float64",
         "type": "float"
        },
        {
         "name": "Lack_contraception",
         "rawType": "float64",
         "type": "float"
        },
        {
         "name": "F_school",
         "rawType": "float64",
         "type": "float"
        },
        {
         "name": "M_school",
         "rawType": "float64",
         "type": "float"
        },
        {
         "name": "F_parliam",
         "rawType": "float64",
         "type": "float"
        },
        {
         "name": "Freshwater",
         "rawType": "float64",
         "type": "float"
        },
        {
         "name": "Sanitation",
         "rawType": "float64",
         "type": "float"
        },
        {
         "name": "Water_acc",
         "rawType": "float64",
         "type": "float"
        },
        {
         "name": "Co2_fuel",
         "rawType": "float64",
         "type": "float"
        },
        {
         "name": "Electric_acc",
         "rawType": "float64",
         "type": "float"
        },
        {
         "name": "Fuel_acc",
         "rawType": "float64",
         "type": "float"
        },
        {
         "name": "Growth_rate",
         "rawType": "float64",
         "type": "float"
        },
        {
         "name": "ATMs",
         "rawType": "float64",
         "type": "float"
        },
        {
         "name": "Child_lab",
         "rawType": "float64",
         "type": "float"
        },
        {
         "name": "Unemploy",
         "rawType": "float64",
         "type": "float"
        },
        {
         "name": "Infrastruct",
         "rawType": "float64",
         "type": "float"
        },
        {
         "name": "Internet_use",
         "rawType": "float64",
         "type": "float"
        },
        {
         "name": "Broadband",
         "rawType": "float64",
         "type": "float"
        },
        {
         "name": "Inequality",
         "rawType": "float64",
         "type": "float"
        },
        {
         "name": "Piped_water",
         "rawType": "float64",
         "type": "float"
        },
        {
         "name": "Treated_waste",
         "rawType": "float64",
         "type": "float"
        },
        {
         "name": "Climate_chg_vuln",
         "rawType": "float64",
         "type": "float"
        },
        {
         "name": "Co2_energy_pc",
         "rawType": "float64",
         "type": "float"
        },
        {
         "name": "Ocean_biodiv",
         "rawType": "float64",
         "type": "float"
        },
        {
         "name": "Ocean_clean",
         "rawType": "float64",
         "type": "float"
        },
        {
         "name": "Ocean_protect",
         "rawType": "float64",
         "type": "float"
        },
        {
         "name": "Ocean_fisheries",
         "rawType": "float64",
         "type": "float"
        },
        {
         "name": "Fish_overexploit",
         "rawType": "float64",
         "type": "float"
        },
        {
         "name": "Terrestrial_protect",
         "rawType": "float64",
         "type": "float"
        },
        {
         "name": "Forest_change",
         "rawType": "float64",
         "type": "float"
        },
        {
         "name": "Species_survival",
         "rawType": "float64",
         "type": "float"
        },
        {
         "name": "CPI",
         "rawType": "float64",
         "type": "float"
        },
        {
         "name": "Gov_efficien",
         "rawType": "float64",
         "type": "float"
        },
        {
         "name": "Homicides",
         "rawType": "float64",
         "type": "float"
        },
        {
         "name": "Prison_pop",
         "rawType": "int64",
         "type": "integer"
        },
        {
         "name": "Property_rights",
         "rawType": "float64",
         "type": "float"
        },
        {
         "name": "Safe_night",
         "rawType": "float64",
         "type": "float"
        },
        {
         "name": "Regist_birth",
         "rawType": "float64",
         "type": "float"
        },
        {
         "name": "Risk_masskill_2018",
         "rawType": "float64",
         "type": "float"
        },
        {
         "name": "Masskill_ongo",
         "rawType": "int64",
         "type": "integer"
        },
        {
         "name": "Masskill_ever",
         "rawType": "int64",
         "type": "integer"
        },
        {
         "name": "GDPpc_growth",
         "rawType": "float64",
         "type": "float"
        },
        {
         "name": "Minority_rule",
         "rawType": "int64",
         "type": "integer"
        },
        {
         "name": "Ethnic_fract",
         "rawType": "float64",
         "type": "float"
        },
        {
         "name": "Battle_deaths",
         "rawType": "float64",
         "type": "float"
        },
        {
         "name": "Pol_cand_restr",
         "rawType": "int64",
         "type": "integer"
        },
        {
         "name": "Party_ban",
         "rawType": "int64",
         "type": "integer"
        },
        {
         "name": "Relig_freeMK",
         "rawType": "int64",
         "type": "integer"
        },
        {
         "name": "Polkill_apprvd",
         "rawType": "int64",
         "type": "integer"
        },
        {
         "name": "Freemv_M",
         "rawType": "int64",
         "type": "integer"
        },
        {
         "name": "Freemv_F",
         "rawType": "int64",
         "type": "integer"
        },
        {
         "name": "Free_discuss",
         "rawType": "float64",
         "type": "float"
        },
        {
         "name": "Social_ineq",
         "rawType": "int64",
         "type": "integer"
        },
        {
         "name": "Soc_powerdist",
         "rawType": "int64",
         "type": "integer"
        },
        {
         "name": "Trade_openMK",
         "rawType": "float64",
         "type": "float"
        },
        {
         "name": "Democ",
         "rawType": "int64",
         "type": "integer"
        },
        {
         "name": "Sexwrk_size",
         "rawType": "float64",
         "type": "float"
        },
        {
         "name": "Sexwrk_HIV",
         "rawType": "float64",
         "type": "float"
        },
        {
         "name": "Sexwrk_condom",
         "rawType": "float64",
         "type": "float"
        },
        {
         "name": "Sexwrk_Syphilis",
         "rawType": "float64",
         "type": "float"
        },
        {
         "name": "AIDS_death_2016",
         "rawType": "float64",
         "type": "float"
        },
        {
         "name": "AIDS_death_2018",
         "rawType": "float64",
         "type": "float"
        },
        {
         "name": "AIDS_Orph_2016",
         "rawType": "float64",
         "type": "float"
        },
        {
         "name": "AIDS_Orph_2018",
         "rawType": "float64",
         "type": "float"
        },
        {
         "name": "Physrights_indx_2011",
         "rawType": "int64",
         "type": "integer"
        },
        {
         "name": "Extrajud_kill_2011",
         "rawType": "int64",
         "type": "integer"
        },
        {
         "name": "Pol_impris_2011",
         "rawType": "int64",
         "type": "integer"
        },
        {
         "name": "Torture_2011",
         "rawType": "int64",
         "type": "integer"
        },
        {
         "name": "Polrights_indx_2011",
         "rawType": "int64",
         "type": "integer"
        },
        {
         "name": "Free_assem_2011",
         "rawType": "int64",
         "type": "integer"
        },
        {
         "name": "Freemv_foreign_2011",
         "rawType": "int64",
         "type": "integer"
        },
        {
         "name": "Freemv_dom_2011",
         "rawType": "int64",
         "type": "integer"
        },
        {
         "name": "Free_speech_2011",
         "rawType": "int64",
         "type": "integer"
        },
        {
         "name": "Free_polit_2011",
         "rawType": "int64",
         "type": "integer"
        },
        {
         "name": "Relig_freeCIRI_2011",
         "rawType": "int64",
         "type": "integer"
        },
        {
         "name": "Work_rightCIRI_2011",
         "rawType": "int64",
         "type": "integer"
        },
        {
         "name": "Econ_right_F_2011",
         "rawType": "int64",
         "type": "integer"
        },
        {
         "name": "Pol_right_F_2011",
         "rawType": "int64",
         "type": "integer"
        },
        {
         "name": "Indep_judic_2011",
         "rawType": "int64",
         "type": "integer"
        },
        {
         "name": "Rape_prev_2018",
         "rawType": "float64",
         "type": "float"
        },
        {
         "name": "Rape_report_2015",
         "rawType": "float64",
         "type": "float"
        },
        {
         "name": "Rape_enclave_2015",
         "rawType": "float64",
         "type": "float"
        },
        {
         "name": "Rape_compl_2018",
         "rawType": "float64",
         "type": "float"
        },
        {
         "name": "Phys_secF_2014",
         "rawType": "float64",
         "type": "float"
        },
        {
         "name": "Phys_secF_2019",
         "rawType": "float64",
         "type": "float"
        },
        {
         "name": "Gender_equal_2015",
         "rawType": "float64",
         "type": "float"
        },
        {
         "name": "Hum_traff_2019",
         "rawType": "float64",
         "type": "float"
        }
       ],
       "ref": "a538633d-fa3c-427c-a79b-eaf61ead8f36",
       "rows": [
        [
         "0",
         "Afghanistan",
         "2018-01-01 00:00:00",
         "ASIA",
         "38.57",
         "1",
         "55.92",
         "0.48",
         "0.24",
         "570",
         "1",
         "1",
         "0",
         "0",
         "0",
         "0",
         "0",
         "5.0",
         "2.22",
         "36.5",
         null,
         "2.02060008",
         "40.9",
         "26.79999924",
         "9.5",
         "50",
         "396",
         "35.5",
         "3.575000048",
         "189.0",
         "91.09999847",
         "66",
         "46.99005082",
         null,
         "9.27439",
         "57.50915751",
         "22.61208577",
         null,
         "27.70000076",
         "31.04",
         "31.89999962",
         "55.29999924",
         null,
         "43.0",
         "14.86678",
         "-3.583961063",
         "0.802081543",
         "10.30000019",
         "9.58131218",
         null,
         "6.39",
         null,
         "27.81999969",
         "31.2483802",
         "0.0",
         "0.12",
         "0.425262094",
         null,
         null,
         null,
         null,
         null,
         "6.25",
         "0.862703096",
         "0.835789313",
         "11.0",
         null,
         "6.5",
         "76",
         null,
         "33.71611619",
         "37.4",
         "0.134",
         "1",
         "1",
         "0.014738921",
         "1",
         "0.77",
         "7.928766322",
         "1",
         "4",
         "2",
         "0",
         "0",
         "0",
         "0.566546682",
         "0",
         "1",
         "-2.359147778",
         "0",
         "12500.0",
         "0.3",
         "51.5",
         "0.4",
         "500.0",
         "500.0",
         "4700.0",
         "5400.0",
         "4",
         "0",
         "2",
         "0",
         "4",
         "1",
         "0",
         "0",
         "1",
         "1",
         "0",
         "1",
         "0",
         "2",
         "0",
         "4.0",
         "4.0",
         "2.0",
         "17.0",
         "4.0",
         "4.0",
         "2.0",
         "3.0"
        ],
        [
         "1",
         "Argentina",
         "2018-01-01 00:00:00",
         "AMERICAS",
         "63.02",
         "1",
         "26.12",
         "0.59",
         "0.61",
         "11970",
         "0",
         "0",
         "0",
         "1",
         "0",
         "0",
         "0",
         "2.0",
         "0.13",
         "66.82",
         "0.0",
         "4.554999828",
         "8.2",
         "5.0",
         "1.2",
         "67",
         "52",
         "6.3",
         "6.573999882",
         "24.0",
         "12.5",
         "94",
         "99.23841",
         "95.38",
         "17.94733",
         "24.84076433",
         "100.1055966",
         "65.84022072",
         "36.59999847",
         "4.302",
         "96.40000153",
         "99.09999847",
         "1.309626437",
         "99.80000305",
         "95.0",
         "-1.071438309",
         "59.44995441",
         "4.400000095",
         "6.666788101",
         "2.98526772",
         "64.7",
         "32.1",
         "44.49000168",
         "98.0915359",
         "11.746875",
         "0.05",
         "4.562048435",
         "85.89",
         "62.36",
         "17.64705882",
         "42.0",
         "49.36",
         "14.70588235",
         "12.58582158",
         "0.861084394",
         "32.0",
         "2.336128838",
         "5.5",
         "147",
         "2.876021471",
         "42.9296057",
         "99.5",
         "0.005612",
         "0",
         "1",
         "0.016885522",
         "0",
         "0.26",
         "0.0",
         "1",
         "4",
         "4",
         "0",
         "1",
         "1",
         "0.954938645",
         "0",
         "0",
         "-3.221412266",
         "1",
         "74900.0",
         "5.4",
         "96.3",
         null,
         "1700.0",
         "1700.0",
         "30000.0",
         "31000.0",
         "5",
         "1",
         "2",
         "0",
         "12",
         "2",
         "2",
         "2",
         "1",
         "2",
         "2",
         "1",
         "2",
         "3",
         "1",
         "1.0",
         "4.0",
         "0.0",
         "9.0",
         "3.0",
         "2.0",
         "4.0",
         "1.0"
        ],
        [
         "2",
         "Armenia",
         "2018-01-01 00:00:00",
         "RUSSIA AND EURASIA",
         "67.09",
         "1",
         "75.92",
         "3.21",
         "0.23",
         "3770",
         "0",
         "0",
         "0",
         "0",
         "0",
         "0",
         "1",
         "3.0",
         "0.34",
         "65.41",
         "2.440000057",
         "3.026299953",
         "20.8",
         "5.800000191",
         "4.2",
         "62",
         "25",
         "7.4",
         "4.349999905",
         "45.0",
         "14.10000038",
         "93",
         "99.80728398",
         "84.11982",
         "12.31785",
         "59.04761905",
         "99.63235294",
         "76.78571316",
         "10.69999981",
         "37.86",
         "89.5",
         "100.0",
         "0.675324675",
         "100.0",
         "81.48745",
         "-0.195630491",
         "58.26582913",
         "3.900000095",
         "16.29862022",
         "4.313498436",
         "46.3",
         "31.0",
         "31.29999924",
         "99.6666829",
         "22.58527273",
         "0.05",
         "1.671656966",
         null,
         null,
         null,
         null,
         null,
         "10.52631579",
         "0.593045017",
         "0.841605994",
         "35.0",
         "3.401135002",
         "1.8",
         "164",
         "3.958414994",
         "83.95189751",
         "99.6",
         "0.005065",
         "0",
         "0",
         "0.053966503",
         "1",
         "0.13",
         "0.0",
         "1",
         "4",
         "3",
         "0",
         "1",
         "1",
         "0.87283978",
         "0",
         "0",
         "-1.867682537",
         "0",
         "4600.0",
         "0.6",
         "99.1",
         "14.3",
         "200.0",
         "200.0",
         null,
         null,
         "4",
         "1",
         "1",
         "0",
         "6",
         "1",
         "1",
         "1",
         "1",
         "1",
         "0",
         "1",
         "1",
         "2",
         "0",
         "0.0",
         "3.0",
         "0.0",
         "9.0",
         "4.0",
         "3.0",
         "0.0",
         "3.0"
        ],
        [
         "3",
         "Bangladesh",
         "2016-01-01 00:00:00",
         "ASIA",
         "45.54",
         "0",
         "37.95",
         "1.05",
         "0.16",
         "1330",
         "1",
         "1",
         "0",
         "0",
         "0",
         "0",
         "0",
         "4.0",
         "0.95",
         "44.42",
         "43.65000153",
         "4.405799866",
         "36.1",
         "16.39999962",
         "14.3",
         "61",
         "176",
         "23.3",
         "4.693999767",
         "227.0",
         "37.59999847",
         "89",
         "79.93943",
         "91.54676",
         "9.97506",
         "25.67324955",
         "81.65137615",
         "43.63636364",
         "20.0",
         "2.923",
         "60.59999847",
         "86.90000153",
         "1.124528302",
         "59.59999847",
         "9.2603",
         "-0.548201313",
         "9.236862234",
         "12.80000019",
         "4.443553925",
         "2.847684598",
         "9.6",
         "1.9",
         "32.11999893",
         "32.330873",
         "0.0",
         "0.26",
         "0.372017175",
         "90.97",
         "50.04",
         "33.33333333",
         "2.0",
         "2.36",
         "10.52631579",
         "3.5269607",
         "0.768760392",
         "25.0",
         "2.852616337",
         "2.7",
         "42",
         "3.458802616",
         "80.26233449",
         "30.5",
         "0.04727",
         "0",
         "1",
         "0.052240526",
         "1",
         "0.05",
         "3.871201011",
         "1",
         "4",
         "2",
         "0",
         "1",
         "0",
         "0.541175821",
         "0",
         "1",
         "-2.852129745",
         "0",
         "140000.0",
         "0.2",
         "66.7",
         "2.1",
         "500.0",
         "1000.0",
         "3800.0",
         "4500.0",
         "2",
         "0",
         "1",
         "0",
         "7",
         "1",
         "2",
         "1",
         "1",
         "1",
         "1",
         "0",
         "1",
         "2",
         "0",
         "1.0",
         "4.0",
         "1.0",
         "12.0",
         "4.0",
         "4.0",
         "4.0",
         "3.0"
        ],
        [
         "4",
         "Bolivia",
         "2016-01-01 00:00:00",
         "AMERICAS",
         "57.74",
         "1",
         "56.4",
         "1.54",
         "0.4",
         "3070",
         "0",
         "0",
         "0",
         "1",
         "0",
         "0",
         "0",
         "2.0",
         "0.44",
         "57.47",
         "7.699999809",
         "1.937999964",
         "18.1",
         "15.89999962",
         "1.6",
         "59",
         "206",
         "19.6",
         "5.889999866",
         "120.0",
         "38.40000153",
         "94",
         "98.99588481",
         "81.60256",
         "13.15285",
         "49.60835509",
         "84.78139777",
         "75.54479743",
         "53.09999847",
         "0.3638",
         "50.29999924",
         "90.0",
         "2.135802469",
         "90.5",
         "70.97138",
         "-1.097021609",
         "34.711929",
         "26.39999962",
         "3.637384653",
         "3.308116452",
         "39.02",
         "13.9",
         "56.29000092",
         "96.1371649",
         "11.29666667",
         "0.11",
         "1.599498987",
         null,
         null,
         null,
         null,
         null,
         "26.78571429",
         "5.260436717",
         "0.868153632",
         "34.0",
         "3.185075937",
         "12.1",
         "140",
         "3.439012321",
         "43.89882727",
         "75.8",
         "0.004741",
         "0",
         "0",
         "0.027533603",
         "0",
         "0.74",
         "0.0",
         "1",
         "4",
         "4",
         "0",
         "1",
         "1",
         "0.786002046",
         "0",
         "1",
         "-2.344236351",
         "1",
         "13500.0",
         "4.3",
         "88.9",
         "4.8",
         "1000.0",
         "1000.0",
         "20000.0",
         "19000.0",
         "5",
         "1",
         "1",
         "1",
         "11",
         "1",
         "2",
         "2",
         "1",
         "2",
         "2",
         "1",
         "1",
         "3",
         "0",
         "3.0",
         "3.0",
         "0.0",
         "10.0",
         "3.0",
         "3.0",
         "0.0",
         "3.0"
        ]
       ],
       "shape": {
        "columns": 120,
        "rows": 5
       }
      },
      "text/html": [
       "<div>\n",
       "<style scoped>\n",
       "    .dataframe tbody tr th:only-of-type {\n",
       "        vertical-align: middle;\n",
       "    }\n",
       "\n",
       "    .dataframe tbody tr th {\n",
       "        vertical-align: top;\n",
       "    }\n",
       "\n",
       "    .dataframe thead th {\n",
       "        text-align: right;\n",
       "    }\n",
       "</style>\n",
       "<table border=\"1\" class=\"dataframe\">\n",
       "  <thead>\n",
       "    <tr style=\"text-align: right;\">\n",
       "      <th></th>\n",
       "      <th>Country</th>\n",
       "      <th>Data_year</th>\n",
       "      <th>Region</th>\n",
       "      <th>KOF_Globalis</th>\n",
       "      <th>Work_rightCIRI</th>\n",
       "      <th>Trade_open</th>\n",
       "      <th>FDI</th>\n",
       "      <th>VDEM_Libdem</th>\n",
       "      <th>GDPpc_2016</th>\n",
       "      <th>Armedcon</th>\n",
       "      <th>...</th>\n",
       "      <th>Pol_right_F_2011</th>\n",
       "      <th>Indep_judic_2011</th>\n",
       "      <th>Rape_prev_2018</th>\n",
       "      <th>Rape_report_2015</th>\n",
       "      <th>Rape_enclave_2015</th>\n",
       "      <th>Rape_compl_2018</th>\n",
       "      <th>Phys_secF_2014</th>\n",
       "      <th>Phys_secF_2019</th>\n",
       "      <th>Gender_equal_2015</th>\n",
       "      <th>Hum_traff_2019</th>\n",
       "    </tr>\n",
       "  </thead>\n",
       "  <tbody>\n",
       "    <tr>\n",
       "      <th>0</th>\n",
       "      <td>Afghanistan</td>\n",
       "      <td>2018-01-01</td>\n",
       "      <td>ASIA</td>\n",
       "      <td>38.57</td>\n",
       "      <td>1</td>\n",
       "      <td>55.92</td>\n",
       "      <td>0.48</td>\n",
       "      <td>0.24</td>\n",
       "      <td>570</td>\n",
       "      <td>1</td>\n",
       "      <td>...</td>\n",
       "      <td>2</td>\n",
       "      <td>0</td>\n",
       "      <td>4.0</td>\n",
       "      <td>4.0</td>\n",
       "      <td>2.0</td>\n",
       "      <td>17.0</td>\n",
       "      <td>4.0</td>\n",
       "      <td>4.0</td>\n",
       "      <td>2.0</td>\n",
       "      <td>3.0</td>\n",
       "    </tr>\n",
       "    <tr>\n",
       "      <th>1</th>\n",
       "      <td>Argentina</td>\n",
       "      <td>2018-01-01</td>\n",
       "      <td>AMERICAS</td>\n",
       "      <td>63.02</td>\n",
       "      <td>1</td>\n",
       "      <td>26.12</td>\n",
       "      <td>0.59</td>\n",
       "      <td>0.61</td>\n",
       "      <td>11970</td>\n",
       "      <td>0</td>\n",
       "      <td>...</td>\n",
       "      <td>3</td>\n",
       "      <td>1</td>\n",
       "      <td>1.0</td>\n",
       "      <td>4.0</td>\n",
       "      <td>0.0</td>\n",
       "      <td>9.0</td>\n",
       "      <td>3.0</td>\n",
       "      <td>2.0</td>\n",
       "      <td>4.0</td>\n",
       "      <td>1.0</td>\n",
       "    </tr>\n",
       "    <tr>\n",
       "      <th>2</th>\n",
       "      <td>Armenia</td>\n",
       "      <td>2018-01-01</td>\n",
       "      <td>RUSSIA AND EURASIA</td>\n",
       "      <td>67.09</td>\n",
       "      <td>1</td>\n",
       "      <td>75.92</td>\n",
       "      <td>3.21</td>\n",
       "      <td>0.23</td>\n",
       "      <td>3770</td>\n",
       "      <td>0</td>\n",
       "      <td>...</td>\n",
       "      <td>2</td>\n",
       "      <td>0</td>\n",
       "      <td>0.0</td>\n",
       "      <td>3.0</td>\n",
       "      <td>0.0</td>\n",
       "      <td>9.0</td>\n",
       "      <td>4.0</td>\n",
       "      <td>3.0</td>\n",
       "      <td>0.0</td>\n",
       "      <td>3.0</td>\n",
       "    </tr>\n",
       "    <tr>\n",
       "      <th>3</th>\n",
       "      <td>Bangladesh</td>\n",
       "      <td>2016-01-01</td>\n",
       "      <td>ASIA</td>\n",
       "      <td>45.54</td>\n",
       "      <td>0</td>\n",
       "      <td>37.95</td>\n",
       "      <td>1.05</td>\n",
       "      <td>0.16</td>\n",
       "      <td>1330</td>\n",
       "      <td>1</td>\n",
       "      <td>...</td>\n",
       "      <td>2</td>\n",
       "      <td>0</td>\n",
       "      <td>1.0</td>\n",
       "      <td>4.0</td>\n",
       "      <td>1.0</td>\n",
       "      <td>12.0</td>\n",
       "      <td>4.0</td>\n",
       "      <td>4.0</td>\n",
       "      <td>4.0</td>\n",
       "      <td>3.0</td>\n",
       "    </tr>\n",
       "    <tr>\n",
       "      <th>4</th>\n",
       "      <td>Bolivia</td>\n",
       "      <td>2016-01-01</td>\n",
       "      <td>AMERICAS</td>\n",
       "      <td>57.74</td>\n",
       "      <td>1</td>\n",
       "      <td>56.40</td>\n",
       "      <td>1.54</td>\n",
       "      <td>0.40</td>\n",
       "      <td>3070</td>\n",
       "      <td>0</td>\n",
       "      <td>...</td>\n",
       "      <td>3</td>\n",
       "      <td>0</td>\n",
       "      <td>3.0</td>\n",
       "      <td>3.0</td>\n",
       "      <td>0.0</td>\n",
       "      <td>10.0</td>\n",
       "      <td>3.0</td>\n",
       "      <td>3.0</td>\n",
       "      <td>0.0</td>\n",
       "      <td>3.0</td>\n",
       "    </tr>\n",
       "  </tbody>\n",
       "</table>\n",
       "<p>5 rows × 120 columns</p>\n",
       "</div>"
      ],
      "text/plain": [
       "       Country  Data_year              Region  KOF_Globalis  Work_rightCIRI  \\\n",
       "0  Afghanistan 2018-01-01                ASIA         38.57               1   \n",
       "1    Argentina 2018-01-01            AMERICAS         63.02               1   \n",
       "2      Armenia 2018-01-01  RUSSIA AND EURASIA         67.09               1   \n",
       "3   Bangladesh 2016-01-01                ASIA         45.54               0   \n",
       "4      Bolivia 2016-01-01            AMERICAS         57.74               1   \n",
       "\n",
       "   Trade_open   FDI  VDEM_Libdem  GDPpc_2016  Armedcon  ...  Pol_right_F_2011  \\\n",
       "0       55.92  0.48         0.24         570         1  ...                 2   \n",
       "1       26.12  0.59         0.61       11970         0  ...                 3   \n",
       "2       75.92  3.21         0.23        3770         0  ...                 2   \n",
       "3       37.95  1.05         0.16        1330         1  ...                 2   \n",
       "4       56.40  1.54         0.40        3070         0  ...                 3   \n",
       "\n",
       "   Indep_judic_2011  Rape_prev_2018  Rape_report_2015  Rape_enclave_2015  \\\n",
       "0                 0             4.0               4.0                2.0   \n",
       "1                 1             1.0               4.0                0.0   \n",
       "2                 0             0.0               3.0                0.0   \n",
       "3                 0             1.0               4.0                1.0   \n",
       "4                 0             3.0               3.0                0.0   \n",
       "\n",
       "   Rape_compl_2018  Phys_secF_2014  Phys_secF_2019  Gender_equal_2015  \\\n",
       "0             17.0             4.0             4.0                2.0   \n",
       "1              9.0             3.0             2.0                4.0   \n",
       "2              9.0             4.0             3.0                0.0   \n",
       "3             12.0             4.0             4.0                4.0   \n",
       "4             10.0             3.0             3.0                0.0   \n",
       "\n",
       "   Hum_traff_2019  \n",
       "0             3.0  \n",
       "1             1.0  \n",
       "2             3.0  \n",
       "3             3.0  \n",
       "4             3.0  \n",
       "\n",
       "[5 rows x 120 columns]"
      ]
     },
     "execution_count": 2,
     "metadata": {},
     "output_type": "execute_result"
    }
   ],
   "source": [
    "data = pd.read_csv(\"training.csv\")\n",
    "data['Data_year'] = pd.to_datetime(data['Data_year'], format='%Y')\n",
    "data.head()"
   ]
  },
  {
   "attachments": {},
   "cell_type": "markdown",
   "metadata": {},
   "source": [
    "The dependent variable of our dataset is `\"SLAVERY\"`, which showcases the slavery percentage of the population of each country.\n",
    "\n",
    "- 48 unique countries\n",
    "\n",
    "- Years between 2016 & 2018"
   ]
  },
  {
   "cell_type": "code",
   "execution_count": 3,
   "metadata": {},
   "outputs": [
    {
     "data": {
      "application/vnd.microsoft.datawrangler.viewer.v0+json": {
       "columns": [
        {
         "name": "index",
         "rawType": "object",
         "type": "string"
        },
        {
         "name": "Data_year",
         "rawType": "object",
         "type": "unknown"
        },
        {
         "name": "KOF_Globalis",
         "rawType": "float64",
         "type": "float"
        },
        {
         "name": "Work_rightCIRI",
         "rawType": "float64",
         "type": "float"
        },
        {
         "name": "Trade_open",
         "rawType": "float64",
         "type": "float"
        },
        {
         "name": "FDI",
         "rawType": "float64",
         "type": "float"
        },
        {
         "name": "VDEM_Libdem",
         "rawType": "float64",
         "type": "float"
        },
        {
         "name": "GDPpc_2016",
         "rawType": "float64",
         "type": "float"
        },
        {
         "name": "Armedcon",
         "rawType": "float64",
         "type": "float"
        },
        {
         "name": "Asia",
         "rawType": "float64",
         "type": "float"
        },
        {
         "name": "Subsah_Africa",
         "rawType": "float64",
         "type": "float"
        },
        {
         "name": "Americas",
         "rawType": "float64",
         "type": "float"
        },
        {
         "name": "Europe",
         "rawType": "float64",
         "type": "float"
        },
        {
         "name": "M_East_N_Africa",
         "rawType": "float64",
         "type": "float"
        },
        {
         "name": "Russia_Eurasia",
         "rawType": "float64",
         "type": "float"
        },
        {
         "name": "Pol_terror",
         "rawType": "float64",
         "type": "float"
        },
        {
         "name": "SLAVERY",
         "rawType": "float64",
         "type": "float"
        },
        {
         "name": "SDGI_2016",
         "rawType": "float64",
         "type": "float"
        },
        {
         "name": "Poverty",
         "rawType": "float64",
         "type": "float"
        },
        {
         "name": "Cereal_yield",
         "rawType": "float64",
         "type": "float"
        },
        {
         "name": "Stunting_u5s",
         "rawType": "float64",
         "type": "float"
        },
        {
         "name": "Undernourish",
         "rawType": "float64",
         "type": "float"
        },
        {
         "name": "Wasting_u5s",
         "rawType": "float64",
         "type": "float"
        },
        {
         "name": "Life_expect",
         "rawType": "float64",
         "type": "float"
        },
        {
         "name": "Maternal_mort",
         "rawType": "float64",
         "type": "float"
        },
        {
         "name": "Neonatal_mort",
         "rawType": "float64",
         "type": "float"
        },
        {
         "name": "Wellbeing",
         "rawType": "float64",
         "type": "float"
        },
        {
         "name": "Tuberculosis",
         "rawType": "float64",
         "type": "float"
        },
        {
         "name": "Infant_mort",
         "rawType": "float64",
         "type": "float"
        },
        {
         "name": "Infant_vaccines",
         "rawType": "float64",
         "type": "float"
        },
        {
         "name": "Literacy_15_24yrs",
         "rawType": "float64",
         "type": "float"
        },
        {
         "name": "Primary_school",
         "rawType": "float64",
         "type": "float"
        },
        {
         "name": "Yrs_of_school",
         "rawType": "float64",
         "type": "float"
        },
        {
         "name": "Lack_contraception",
         "rawType": "float64",
         "type": "float"
        },
        {
         "name": "F_school",
         "rawType": "float64",
         "type": "float"
        },
        {
         "name": "M_school",
         "rawType": "float64",
         "type": "float"
        },
        {
         "name": "F_parliam",
         "rawType": "float64",
         "type": "float"
        },
        {
         "name": "Freshwater",
         "rawType": "float64",
         "type": "float"
        },
        {
         "name": "Sanitation",
         "rawType": "float64",
         "type": "float"
        },
        {
         "name": "Water_acc",
         "rawType": "float64",
         "type": "float"
        },
        {
         "name": "Co2_fuel",
         "rawType": "float64",
         "type": "float"
        },
        {
         "name": "Electric_acc",
         "rawType": "float64",
         "type": "float"
        },
        {
         "name": "Fuel_acc",
         "rawType": "float64",
         "type": "float"
        },
        {
         "name": "Growth_rate",
         "rawType": "float64",
         "type": "float"
        },
        {
         "name": "ATMs",
         "rawType": "float64",
         "type": "float"
        },
        {
         "name": "Child_lab",
         "rawType": "float64",
         "type": "float"
        },
        {
         "name": "Unemploy",
         "rawType": "float64",
         "type": "float"
        },
        {
         "name": "Infrastruct",
         "rawType": "float64",
         "type": "float"
        },
        {
         "name": "Internet_use",
         "rawType": "float64",
         "type": "float"
        },
        {
         "name": "Broadband",
         "rawType": "float64",
         "type": "float"
        },
        {
         "name": "Inequality",
         "rawType": "float64",
         "type": "float"
        },
        {
         "name": "Piped_water",
         "rawType": "float64",
         "type": "float"
        },
        {
         "name": "Treated_waste",
         "rawType": "float64",
         "type": "float"
        },
        {
         "name": "Climate_chg_vuln",
         "rawType": "float64",
         "type": "float"
        },
        {
         "name": "Co2_energy_pc",
         "rawType": "float64",
         "type": "float"
        },
        {
         "name": "Ocean_biodiv",
         "rawType": "float64",
         "type": "float"
        },
        {
         "name": "Ocean_clean",
         "rawType": "float64",
         "type": "float"
        },
        {
         "name": "Ocean_protect",
         "rawType": "float64",
         "type": "float"
        },
        {
         "name": "Ocean_fisheries",
         "rawType": "float64",
         "type": "float"
        },
        {
         "name": "Fish_overexploit",
         "rawType": "float64",
         "type": "float"
        },
        {
         "name": "Terrestrial_protect",
         "rawType": "float64",
         "type": "float"
        },
        {
         "name": "Forest_change",
         "rawType": "float64",
         "type": "float"
        },
        {
         "name": "Species_survival",
         "rawType": "float64",
         "type": "float"
        },
        {
         "name": "CPI",
         "rawType": "float64",
         "type": "float"
        },
        {
         "name": "Gov_efficien",
         "rawType": "float64",
         "type": "float"
        },
        {
         "name": "Homicides",
         "rawType": "float64",
         "type": "float"
        },
        {
         "name": "Prison_pop",
         "rawType": "float64",
         "type": "float"
        },
        {
         "name": "Property_rights",
         "rawType": "float64",
         "type": "float"
        },
        {
         "name": "Safe_night",
         "rawType": "float64",
         "type": "float"
        },
        {
         "name": "Regist_birth",
         "rawType": "float64",
         "type": "float"
        },
        {
         "name": "Risk_masskill_2018",
         "rawType": "float64",
         "type": "float"
        },
        {
         "name": "Masskill_ongo",
         "rawType": "float64",
         "type": "float"
        },
        {
         "name": "Masskill_ever",
         "rawType": "float64",
         "type": "float"
        },
        {
         "name": "GDPpc_growth",
         "rawType": "float64",
         "type": "float"
        },
        {
         "name": "Minority_rule",
         "rawType": "float64",
         "type": "float"
        },
        {
         "name": "Ethnic_fract",
         "rawType": "float64",
         "type": "float"
        },
        {
         "name": "Battle_deaths",
         "rawType": "float64",
         "type": "float"
        },
        {
         "name": "Pol_cand_restr",
         "rawType": "float64",
         "type": "float"
        },
        {
         "name": "Party_ban",
         "rawType": "float64",
         "type": "float"
        },
        {
         "name": "Relig_freeMK",
         "rawType": "float64",
         "type": "float"
        },
        {
         "name": "Polkill_apprvd",
         "rawType": "float64",
         "type": "float"
        },
        {
         "name": "Freemv_M",
         "rawType": "float64",
         "type": "float"
        },
        {
         "name": "Freemv_F",
         "rawType": "float64",
         "type": "float"
        },
        {
         "name": "Free_discuss",
         "rawType": "float64",
         "type": "float"
        },
        {
         "name": "Social_ineq",
         "rawType": "float64",
         "type": "float"
        },
        {
         "name": "Soc_powerdist",
         "rawType": "float64",
         "type": "float"
        },
        {
         "name": "Trade_openMK",
         "rawType": "float64",
         "type": "float"
        },
        {
         "name": "Democ",
         "rawType": "float64",
         "type": "float"
        },
        {
         "name": "Sexwrk_size",
         "rawType": "float64",
         "type": "float"
        },
        {
         "name": "Sexwrk_HIV",
         "rawType": "float64",
         "type": "float"
        },
        {
         "name": "Sexwrk_condom",
         "rawType": "float64",
         "type": "float"
        },
        {
         "name": "Sexwrk_Syphilis",
         "rawType": "float64",
         "type": "float"
        },
        {
         "name": "AIDS_death_2016",
         "rawType": "float64",
         "type": "float"
        },
        {
         "name": "AIDS_death_2018",
         "rawType": "float64",
         "type": "float"
        },
        {
         "name": "AIDS_Orph_2016",
         "rawType": "float64",
         "type": "float"
        },
        {
         "name": "AIDS_Orph_2018",
         "rawType": "float64",
         "type": "float"
        },
        {
         "name": "Physrights_indx_2011",
         "rawType": "float64",
         "type": "float"
        },
        {
         "name": "Extrajud_kill_2011",
         "rawType": "float64",
         "type": "float"
        },
        {
         "name": "Pol_impris_2011",
         "rawType": "float64",
         "type": "float"
        },
        {
         "name": "Torture_2011",
         "rawType": "float64",
         "type": "float"
        },
        {
         "name": "Polrights_indx_2011",
         "rawType": "float64",
         "type": "float"
        },
        {
         "name": "Free_assem_2011",
         "rawType": "float64",
         "type": "float"
        },
        {
         "name": "Freemv_foreign_2011",
         "rawType": "float64",
         "type": "float"
        },
        {
         "name": "Freemv_dom_2011",
         "rawType": "float64",
         "type": "float"
        },
        {
         "name": "Free_speech_2011",
         "rawType": "float64",
         "type": "float"
        },
        {
         "name": "Free_polit_2011",
         "rawType": "float64",
         "type": "float"
        },
        {
         "name": "Relig_freeCIRI_2011",
         "rawType": "float64",
         "type": "float"
        },
        {
         "name": "Work_rightCIRI_2011",
         "rawType": "float64",
         "type": "float"
        },
        {
         "name": "Econ_right_F_2011",
         "rawType": "float64",
         "type": "float"
        },
        {
         "name": "Pol_right_F_2011",
         "rawType": "float64",
         "type": "float"
        },
        {
         "name": "Indep_judic_2011",
         "rawType": "float64",
         "type": "float"
        },
        {
         "name": "Rape_prev_2018",
         "rawType": "float64",
         "type": "float"
        },
        {
         "name": "Rape_report_2015",
         "rawType": "float64",
         "type": "float"
        },
        {
         "name": "Rape_enclave_2015",
         "rawType": "float64",
         "type": "float"
        },
        {
         "name": "Rape_compl_2018",
         "rawType": "float64",
         "type": "float"
        },
        {
         "name": "Phys_secF_2014",
         "rawType": "float64",
         "type": "float"
        },
        {
         "name": "Phys_secF_2019",
         "rawType": "float64",
         "type": "float"
        },
        {
         "name": "Gender_equal_2015",
         "rawType": "float64",
         "type": "float"
        },
        {
         "name": "Hum_traff_2019",
         "rawType": "float64",
         "type": "float"
        }
       ],
       "ref": "3fbc693f-5301-4675-b84c-7137d4aa1610",
       "rows": [
        [
         "count",
         "70",
         "70.0",
         "70.0",
         "70.0",
         "70.0",
         "70.0",
         "70.0",
         "70.0",
         "70.0",
         "70.0",
         "70.0",
         "70.0",
         "70.0",
         "70.0",
         "70.0",
         "70.0",
         "70.0",
         "65.0",
         "69.0",
         "63.0",
         "66.0",
         "63.0",
         "70.0",
         "70.0",
         "70.0",
         "70.0",
         "70.0",
         "70.0",
         "70.0",
         "69.0",
         "68.0",
         "70.0",
         "70.0",
         "70.0",
         "61.0",
         "70.0",
         "69.0",
         "70.0",
         "70.0",
         "65.0",
         "70.0",
         "70.0",
         "70.0",
         "69.0",
         "64.0",
         "70.0",
         "68.0",
         "70.0",
         "68.0",
         "64.0",
         "69.0",
         "70.0",
         "70.0",
         "70.0",
         "54.0",
         "54.0",
         "45.0",
         "54.0",
         "44.0",
         "70.0",
         "70.0",
         "70.0",
         "68.0",
         "68.0",
         "70.0",
         "70.0",
         "68.0",
         "70.0",
         "68.0",
         "70.0",
         "70.0",
         "70.0",
         "70.0",
         "70.0",
         "70.0",
         "70.0",
         "70.0",
         "70.0",
         "70.0",
         "70.0",
         "70.0",
         "70.0",
         "70.0",
         "70.0",
         "70.0",
         "70.0",
         "70.0",
         "59.0",
         "63.0",
         "62.0",
         "40.0",
         "58.0",
         "60.0",
         "48.0",
         "48.0",
         "70.0",
         "70.0",
         "70.0",
         "70.0",
         "70.0",
         "70.0",
         "70.0",
         "70.0",
         "70.0",
         "70.0",
         "70.0",
         "70.0",
         "70.0",
         "70.0",
         "70.0",
         "65.0",
         "67.0",
         "67.0",
         "65.0",
         "67.0",
         "67.0",
         "67.0",
         "67.0"
        ],
        [
         "mean",
         "2017-04-14 22:17:08.571428608",
         "61.68985714285716",
         "0.6142857142857143",
         "77.14814285714284",
         "4.5520000000000005",
         "0.40114285714285713",
         "5398.0",
         "0.34285714285714286",
         "0.32857142857142857",
         "0.22857142857142856",
         "0.17142857142857143",
         "0.11428571428571428",
         "0.08571428571428572",
         "0.07142857142857142",
         "3.05",
         "0.6018571428571429",
         "55.44114285714285",
         "13.550769343107692",
         "3.1870188004347835",
         "24.353968253968258",
         "11.28530304190909",
         "6.585714285714285",
         "60.5",
         "170.2",
         "15.771428571428574",
         "5.081942857985714",
         "168.24428571428572",
         "34.46285714145714",
         "85.31428571428572",
         "89.36916925260869",
         "90.60174085514707",
         "12.353466180571427",
         "36.45528264241428",
         "82.72890788571429",
         "67.83423503704918",
         "19.964285673528572",
         "16.007252173913045",
         "67.72285676700001",
         "88.58428551828572",
         "1.540334472569231",
         "78.15615303830002",
         "55.111126285714285",
         "-1.2181481768285711",
         "37.84914602481159",
         "12.698437495640626",
         "7.964350874099999",
         "3.6381688492352944",
         "35.91042857142857",
         "25.289705882352944",
         "40.2836173771875",
         "69.16693006231881",
         "17.014441504628568",
         "0.11514285714285714",
         "2.7985299674285713",
         "82.81462962962961",
         "60.955185185185194",
         "17.068316847755554",
         "51.833333333333336",
         "27.922228160249997",
         "18.359689913328573",
         "8.625179308714285",
         "0.8372201726857142",
         "37.3235294117647",
         "3.3711757743088233",
         "10.30142857142857",
         "154.32857142857142",
         "3.9771665093676463",
         "58.69637665585714",
         "76.59264705882353",
         "0.01906305714285714",
         "0.21428571428571427",
         "0.6714285714285714",
         "0.028065389457142858",
         "0.37142857142857144",
         "0.4595714285714285",
         "1.5036939246571428",
         "0.8857142857142857",
         "3.7",
         "3.157142857142857",
         "0.02857142857142857",
         "0.8428571428571429",
         "0.6285714285714286",
         "0.7242206361571426",
         "0.07142857142857142",
         "0.6142857142857143",
         "-2.163730926471428",
         "0.6571428571428571",
         "119140.67796610169",
         "9.096507936507939",
         "81.39580645161288",
         "4.2975",
         "9984.48275862069",
         "9218.333333333334",
         "217858.33333333334",
         "206416.66666666666",
         "3.157142857142857",
         "0.7857142857142857",
         "0.8142857142857143",
         "0.22857142857142856",
         "7.242857142857143",
         "0.8857142857142857",
         "1.457142857142857",
         "1.4",
         "0.7714285714285715",
         "1.1",
         "1.0285714285714285",
         "0.6",
         "0.9571428571428572",
         "2.0714285714285716",
         "0.6428571428571429",
         "1.4153846153846155",
         "3.462686567164179",
         "0.9253731343283582",
         "11.061538461538461",
         "3.4925373134328357",
         "3.283582089552239",
         "2.462686567164179",
         "2.283582089552239"
        ],
        [
         "min",
         "2016-01-01 00:00:00",
         "38.57",
         "0.0",
         "20.72",
         "-37.17",
         "0.11",
         "320.0",
         "0.0",
         "0.0",
         "0.0",
         "0.0",
         "0.0",
         "0.0",
         "0.0",
         "1.0",
         "0.08",
         "31.29",
         "0.0",
         "0.398299992",
         "1.8",
         "1.169999957",
         "0.3",
         "44.0",
         "3.0",
         "1.0",
         "3.575000048",
         "4.6",
         "2.700000048",
         "48.0",
         "46.99005082",
         "63.90199",
         "7.78876",
         "9.185202259",
         "22.61208577",
         "21.85430377",
         "2.0",
         "0.0533",
         "14.89999962",
         "52.40000153",
         "0.302325581",
         "9.800000191",
         "5.0",
         "-5.928134039",
         "0.463300214",
         "0.0",
         "0.502257824",
         "2.150333055",
         "2.1",
         "0.0",
         "25.60000038",
         "3.4815632",
         "0.0",
         "0.02",
         "0.050302688",
         "67.27",
         "44.25",
         "0.0",
         "1.0",
         "0.02",
         "0.0",
         "0.235717328",
         "0.571313216",
         "11.0",
         "2.336128838",
         "0.2",
         "30.0",
         "2.479041752",
         "33.71611619",
         "2.3",
         "0.001674",
         "0.0",
         "0.0",
         "0.000493867",
         "0.0",
         "0.04",
         "0.0",
         "0.0",
         "0.0",
         "0.0",
         "0.0",
         "0.0",
         "0.0",
         "0.175902524",
         "0.0",
         "0.0",
         "-3.423169604",
         "0.0",
         "300.0",
         "0.0",
         "13.9",
         "0.0",
         "100.0",
         "100.0",
         "1000.0",
         "1000.0",
         "0.0",
         "0.0",
         "0.0",
         "0.0",
         "0.0",
         "0.0",
         "0.0",
         "0.0",
         "0.0",
         "0.0",
         "0.0",
         "0.0",
         "0.0",
         "1.0",
         "0.0",
         "0.0",
         "2.0",
         "0.0",
         "7.0",
         "2.0",
         "2.0",
         "0.0",
         "1.0"
        ],
        [
         "25%",
         "2016-01-01 00:00:00",
         "54.405",
         "0.0",
         "43.0575",
         "1.1",
         "0.2325",
         "1385.0",
         "0.0",
         "0.0",
         "0.0",
         "0.0",
         "0.0",
         "0.0",
         "0.0",
         "2.5",
         "0.2625",
         "45.865",
         "0.129999995",
         "1.937999964",
         "13.6",
         "5.0",
         "2.5999999999999996",
         "56.25",
         "30.25",
         "6.4",
         "4.512000084",
         "43.25",
         "11.9999997625",
         "77.25",
         "82.35368674",
         "87.595605",
         "10.705945",
         "23.7658173125",
         "69.295891545",
         "48.96719045",
         "11.4750001425",
         "2.541",
         "45.79999924",
         "87.02500153",
         "1.117647059",
         "56.59999847",
         "25.39852",
         "-2.951825543",
         "9.236862234",
         "2.5",
         "4.3355435135",
         "3.12443166",
         "15.865",
         "5.4",
         "33.404998775",
         "40.3669041",
         "0.0",
         "0.05",
         "0.53749758",
         "79.21000000000001",
         "52.525",
         "0.0",
         "35.0",
         "11.739999999999998",
         "6.3344038207499995",
         "2.865138402",
         "0.76671797325",
         "28.0",
         "3.0346875394999997",
         "2.75",
         "77.0",
         "3.574995713",
         "46.218031322499996",
         "62.1",
         "0.0046465000000000005",
         "0.0",
         "0.0",
         "0.0109132785",
         "0.0",
         "0.24",
         "0.0",
         "1.0",
         "4.0",
         "3.0",
         "0.0",
         "1.0",
         "0.0",
         "0.61633991175",
         "0.0",
         "0.0",
         "-2.6037763270000003",
         "0.0",
         "22050.0",
         "1.0",
         "73.60000000000001",
         "1.275",
         "500.0",
         "500.0",
         "24500.0",
         "24250.0",
         "1.25",
         "0.0",
         "0.0",
         "0.0",
         "5.0",
         "0.0",
         "1.0",
         "1.0",
         "0.25",
         "1.0",
         "0.0",
         "0.0",
         "1.0",
         "2.0",
         "0.0",
         "1.0",
         "3.0",
         "0.0",
         "10.0",
         "3.0",
         "3.0",
         "1.0",
         "2.0"
        ],
        [
         "50%",
         "2018-01-01 00:00:00",
         "61.875",
         "1.0",
         "64.9",
         "2.66",
         "0.45",
         "3580.0",
         "0.0",
         "0.0",
         "0.0",
         "0.0",
         "0.0",
         "0.0",
         "0.0",
         "3.0",
         "0.45999999999999996",
         "55.54",
         "7.699999809",
         "3.026299953",
         "22.3",
         "7.599999905",
         "5.7",
         "62.0",
         "114.0",
         "12.6",
         "4.800000191",
         "130.0",
         "27.400000570000003",
         "89.0",
         "97.09167345",
         "92.21828",
         "12.49301",
         "28.89542315",
         "92.381210405",
         "74.96136366",
         "17.10000038",
         "4.857",
         "73.04999924",
         "93.19999695",
         "1.288043478",
         "90.13127899",
         "49.73033",
         "-0.8760045065",
         "25.82532288",
         "9.599999904499999",
         "6.044869423",
         "3.6438172470000003",
         "36.955",
         "16.25",
         "38.1407547",
         "75.8920724",
         "7.08075",
         "0.09",
         "1.7047862409999999",
         "82.71000000000001",
         "60.14",
         "5.769230769",
         "51.5",
         "21.46732865",
         "14.424410545",
         "5.083411073000001",
         "0.8401716345",
         "35.0",
         "3.288690192",
         "5.25",
         "136.0",
         "3.950173785",
         "60.46221706",
         "91.5",
         "0.0092215",
         "0.0",
         "1.0",
         "0.02588197",
         "0.0",
         "0.485",
         "0.0",
         "1.0",
         "4.0",
         "3.0",
         "0.0",
         "1.0",
         "1.0",
         "0.7830387434999999",
         "0.0",
         "1.0",
         "-2.1136951095",
         "1.0",
         "66000.0",
         "2.8",
         "86.1",
         "2.1",
         "1600.0",
         "1300.0",
         "68500.0",
         "63000.0",
         "3.0",
         "1.0",
         "1.0",
         "0.0",
         "8.0",
         "1.0",
         "2.0",
         "2.0",
         "1.0",
         "1.0",
         "1.0",
         "1.0",
         "1.0",
         "2.0",
         "0.0",
         "1.0",
         "4.0",
         "1.0",
         "11.0",
         "4.0",
         "3.0",
         "3.0",
         "2.0"
        ],
        [
         "75%",
         "2018-01-01 00:00:00",
         "69.6825",
         "1.0",
         "99.63499999999999",
         "5.27",
         "0.55",
         "6750.0",
         "1.0",
         "1.0",
         "0.0",
         "0.0",
         "0.0",
         "0.0",
         "0.0",
         "4.0",
         "0.7675000000000001",
         "64.905",
         "18.23999977",
         "4.268000126",
         "35.6",
         "15.5000002375",
         "9.5",
         "65.0",
         "178.0",
         "24.875",
         "5.399000168",
         "227.0",
         "49.42500019",
         "95.0",
         "98.88204097",
         "96.47920500000001",
         "14.34304",
         "46.8989123025",
         "98.3893129075",
         "84.28761721",
         "27.349999905",
         "18.96",
         "91.0749988525",
         "97.775001525",
         "1.565647256",
         "100.0",
         "94.2413975",
         "0.09145779125",
         "58.03842307",
         "18.324999334999998",
         "9.026835918749999",
         "4.12020331525",
         "51.6775",
         "38.175",
         "44.4450006525",
         "96.4783516",
         "26.47614481",
         "0.12",
         "4.29276108775",
         "88.06",
         "67.5",
         "33.33333333",
         "76.0",
         "37.77553152",
         "22.22222222",
         "7.402095573",
         "0.928094205",
         "40.25",
         "3.750639978",
         "12.0",
         "210.0",
         "4.316818563",
         "68.64159728",
         "99.2",
         "0.0228275",
         "0.0",
         "1.0",
         "0.044919091",
         "1.0",
         "0.6675",
         "3.801044276",
         "1.0",
         "4.0",
         "4.0",
         "0.0",
         "1.0",
         "1.0",
         "0.851085955",
         "0.0",
         "1.0",
         "-1.7076565015",
         "1.0",
         "121750.0",
         "5.6",
         "91.1",
         "6.175",
         "12000.0",
         "11000.0",
         "250000.0",
         "245000.0",
         "5.0",
         "1.0",
         "1.75",
         "0.0",
         "10.0",
         "1.0",
         "2.0",
         "2.0",
         "1.0",
         "2.0",
         "2.0",
         "1.0",
         "1.0",
         "2.0",
         "1.0",
         "2.0",
         "4.0",
         "2.0",
         "12.0",
         "4.0",
         "4.0",
         "4.0",
         "3.0"
        ],
        [
         "max",
         "2018-01-01 00:00:00",
         "84.2",
         "2.0",
         "310.26",
         "55.49",
         "0.78",
         "51880.0",
         "1.0",
         "1.0",
         "1.0",
         "1.0",
         "1.0",
         "1.0",
         "1.0",
         "5.0",
         "2.22",
         "76.73",
         "77.18000031",
         "7.162299633",
         "48.0",
         "53.40000153",
         "21.4",
         "76.0",
         "814.0",
         "45.5",
         "7.186999798",
         "834.0",
         "108.8000031",
         "99.0",
         "99.99996",
         "100.0",
         "17.94733",
         "82.89652495",
         "112.1372032",
         "98.93475974",
         "53.09999847",
         "126.6",
         "100.0",
         "100.0",
         "6.111111111",
         "100.0",
         "95.0",
         "4.455996993",
         "184.6976969",
         "47.0",
         "31.08639717",
         "6.387624349",
         "82.0",
         "149.3",
         "63.13999939",
         "100.0",
         "99.65",
         "0.42",
         "12.64732838",
         "93.44",
         "83.28",
         "100.0",
         "95.0",
         "92.48",
         "67.5",
         "100.7343376",
         "0.987943851",
         "85.0",
         "5.766091678",
         "90.4",
         "475.0",
         "6.2682947",
         "92.30501378",
         "100.0",
         "0.1377",
         "1.0",
         "1.0",
         "0.075928468",
         "1.0",
         "0.93",
         "7.928766322",
         "1.0",
         "4.0",
         "4.0",
         "1.0",
         "1.0",
         "1.0",
         "0.97116235",
         "1.0",
         "1.0",
         "-0.481385051",
         "1.0",
         "1401600.0",
         "85.0",
         "100.0",
         "24.5",
         "74000.0",
         "71000.0",
         "1300000.0",
         "1200000.0",
         "8.0",
         "2.0",
         "2.0",
         "2.0",
         "12.0",
         "2.0",
         "2.0",
         "2.0",
         "2.0",
         "2.0",
         "2.0",
         "2.0",
         "2.0",
         "3.0",
         "2.0",
         "4.0",
         "4.0",
         "2.0",
         "17.0",
         "4.0",
         "4.0",
         "6.0",
         "4.0"
        ],
        [
         "std",
         null,
         "11.496018528528978",
         "0.5462084632264562",
         "48.52248805683478",
         "10.682218002328701",
         "0.18977135637883646",
         "7055.343046744529",
         "0.4780914437337575",
         "0.473085112648373",
         "0.4229444261101449",
         "0.3796042398103419",
         "0.32045516283430914",
         "0.28196295074009653",
         "0.2593988910521574",
         "1.025578663098496",
         "0.4794178016839055",
         "11.072836529989765",
         "17.61656124180727",
         "1.5832570174533112",
         "13.182965858928926",
         "9.583718548976163",
         "4.878387396924319",
         "6.47122952723846",
         "200.66040242521512",
         "11.159478233830908",
         "0.8707325359313617",
         "167.94282294420296",
         "28.25768678882929",
         "12.780808594254957",
         "13.995360991425441",
         "8.204025063830676",
         "2.4224195730868234",
         "17.52689776102307",
         "20.47834409741874",
         "20.32848056014804",
         "11.420094573740958",
         "24.230524038848966",
         "25.282967382483314",
         "13.481609758817921",
         "0.9812947650493926",
         "27.413478212753777",
         "33.666806602762406",
         "1.9716306227914475",
         "37.347893837465385",
         "11.555710420571597",
         "6.4746143849559346",
         "0.804719312282587",
         "23.783814154918332",
         "25.967885675953056",
         "9.420087554498304",
         "30.333774184727137",
         "23.22332413570608",
         "0.0927321662552164",
         "3.0766225459140215",
         "6.875519249815044",
         "9.630850927498615",
         "23.193067124946907",
         "28.038888089277346",
         "23.662534430042555",
         "17.921185174092315",
         "16.485710199597847",
         "0.10412217366365163",
         "13.88163306715252",
         "0.5487632142756927",
         "13.6613226687624",
         "100.91174525922608",
         "0.6879559913524395",
         "13.988271852899128",
         "27.943024741328003",
         "0.026629898389377522",
         "0.4132885836992707",
         "0.473085112648373",
         "0.01883099610086361",
         "0.48667545866870393",
         "0.24386641457435232",
         "2.4354905377825062",
         "0.32045516283430914",
         "0.8048764420434492",
         "0.8950056964552632",
         "0.1678015193509294",
         "0.36656313238063637",
         "0.486675458668704",
         "0.1883991934408128",
         "0.25939889105215735",
         "0.4902781565677319",
         "0.6335419754509553",
         "0.4780914437337575",
         "215579.77171327145",
         "17.0564510696885",
         "17.211221420387254",
         "5.238686833891652",
         "17107.501193809363",
         "16585.316066917385",
         "351720.16489982937",
         "324087.00587324775",
         "2.230459199394966",
         "0.6787212431329355",
         "0.8216783309197739",
         "0.5429769945063483",
         "3.4909228640954217",
         "0.7716509149709921",
         "0.7928249671720918",
         "0.6894652412127675",
         "0.48667545866870404",
         "0.7253185207353656",
         "0.8676376150536009",
         "0.5490439648719571",
         "0.5499858835003762",
         "0.428053517290299",
         "0.7620664942214076",
         "1.1975535960384467",
         "0.6589329806578534",
         "0.8405163066184632",
         "2.0981906124453626",
         "0.5606580097435893",
         "0.7549025654418716",
         "1.7865521068735726",
         "0.7549025654418716"
        ]
       ],
       "shape": {
        "columns": 118,
        "rows": 8
       }
      },
      "text/html": [
       "<div>\n",
       "<style scoped>\n",
       "    .dataframe tbody tr th:only-of-type {\n",
       "        vertical-align: middle;\n",
       "    }\n",
       "\n",
       "    .dataframe tbody tr th {\n",
       "        vertical-align: top;\n",
       "    }\n",
       "\n",
       "    .dataframe thead th {\n",
       "        text-align: right;\n",
       "    }\n",
       "</style>\n",
       "<table border=\"1\" class=\"dataframe\">\n",
       "  <thead>\n",
       "    <tr style=\"text-align: right;\">\n",
       "      <th></th>\n",
       "      <th>Data_year</th>\n",
       "      <th>KOF_Globalis</th>\n",
       "      <th>Work_rightCIRI</th>\n",
       "      <th>Trade_open</th>\n",
       "      <th>FDI</th>\n",
       "      <th>VDEM_Libdem</th>\n",
       "      <th>GDPpc_2016</th>\n",
       "      <th>Armedcon</th>\n",
       "      <th>Asia</th>\n",
       "      <th>Subsah_Africa</th>\n",
       "      <th>...</th>\n",
       "      <th>Pol_right_F_2011</th>\n",
       "      <th>Indep_judic_2011</th>\n",
       "      <th>Rape_prev_2018</th>\n",
       "      <th>Rape_report_2015</th>\n",
       "      <th>Rape_enclave_2015</th>\n",
       "      <th>Rape_compl_2018</th>\n",
       "      <th>Phys_secF_2014</th>\n",
       "      <th>Phys_secF_2019</th>\n",
       "      <th>Gender_equal_2015</th>\n",
       "      <th>Hum_traff_2019</th>\n",
       "    </tr>\n",
       "  </thead>\n",
       "  <tbody>\n",
       "    <tr>\n",
       "      <th>count</th>\n",
       "      <td>70</td>\n",
       "      <td>70.000000</td>\n",
       "      <td>70.000000</td>\n",
       "      <td>70.000000</td>\n",
       "      <td>70.000000</td>\n",
       "      <td>70.000000</td>\n",
       "      <td>70.000000</td>\n",
       "      <td>70.000000</td>\n",
       "      <td>70.000000</td>\n",
       "      <td>70.000000</td>\n",
       "      <td>...</td>\n",
       "      <td>70.000000</td>\n",
       "      <td>70.000000</td>\n",
       "      <td>65.000000</td>\n",
       "      <td>67.000000</td>\n",
       "      <td>67.000000</td>\n",
       "      <td>65.000000</td>\n",
       "      <td>67.000000</td>\n",
       "      <td>67.000000</td>\n",
       "      <td>67.000000</td>\n",
       "      <td>67.000000</td>\n",
       "    </tr>\n",
       "    <tr>\n",
       "      <th>mean</th>\n",
       "      <td>2017-04-14 22:17:08.571428608</td>\n",
       "      <td>61.689857</td>\n",
       "      <td>0.614286</td>\n",
       "      <td>77.148143</td>\n",
       "      <td>4.552000</td>\n",
       "      <td>0.401143</td>\n",
       "      <td>5398.000000</td>\n",
       "      <td>0.342857</td>\n",
       "      <td>0.328571</td>\n",
       "      <td>0.228571</td>\n",
       "      <td>...</td>\n",
       "      <td>2.071429</td>\n",
       "      <td>0.642857</td>\n",
       "      <td>1.415385</td>\n",
       "      <td>3.462687</td>\n",
       "      <td>0.925373</td>\n",
       "      <td>11.061538</td>\n",
       "      <td>3.492537</td>\n",
       "      <td>3.283582</td>\n",
       "      <td>2.462687</td>\n",
       "      <td>2.283582</td>\n",
       "    </tr>\n",
       "    <tr>\n",
       "      <th>min</th>\n",
       "      <td>2016-01-01 00:00:00</td>\n",
       "      <td>38.570000</td>\n",
       "      <td>0.000000</td>\n",
       "      <td>20.720000</td>\n",
       "      <td>-37.170000</td>\n",
       "      <td>0.110000</td>\n",
       "      <td>320.000000</td>\n",
       "      <td>0.000000</td>\n",
       "      <td>0.000000</td>\n",
       "      <td>0.000000</td>\n",
       "      <td>...</td>\n",
       "      <td>1.000000</td>\n",
       "      <td>0.000000</td>\n",
       "      <td>0.000000</td>\n",
       "      <td>2.000000</td>\n",
       "      <td>0.000000</td>\n",
       "      <td>7.000000</td>\n",
       "      <td>2.000000</td>\n",
       "      <td>2.000000</td>\n",
       "      <td>0.000000</td>\n",
       "      <td>1.000000</td>\n",
       "    </tr>\n",
       "    <tr>\n",
       "      <th>25%</th>\n",
       "      <td>2016-01-01 00:00:00</td>\n",
       "      <td>54.405000</td>\n",
       "      <td>0.000000</td>\n",
       "      <td>43.057500</td>\n",
       "      <td>1.100000</td>\n",
       "      <td>0.232500</td>\n",
       "      <td>1385.000000</td>\n",
       "      <td>0.000000</td>\n",
       "      <td>0.000000</td>\n",
       "      <td>0.000000</td>\n",
       "      <td>...</td>\n",
       "      <td>2.000000</td>\n",
       "      <td>0.000000</td>\n",
       "      <td>1.000000</td>\n",
       "      <td>3.000000</td>\n",
       "      <td>0.000000</td>\n",
       "      <td>10.000000</td>\n",
       "      <td>3.000000</td>\n",
       "      <td>3.000000</td>\n",
       "      <td>1.000000</td>\n",
       "      <td>2.000000</td>\n",
       "    </tr>\n",
       "    <tr>\n",
       "      <th>50%</th>\n",
       "      <td>2018-01-01 00:00:00</td>\n",
       "      <td>61.875000</td>\n",
       "      <td>1.000000</td>\n",
       "      <td>64.900000</td>\n",
       "      <td>2.660000</td>\n",
       "      <td>0.450000</td>\n",
       "      <td>3580.000000</td>\n",
       "      <td>0.000000</td>\n",
       "      <td>0.000000</td>\n",
       "      <td>0.000000</td>\n",
       "      <td>...</td>\n",
       "      <td>2.000000</td>\n",
       "      <td>0.000000</td>\n",
       "      <td>1.000000</td>\n",
       "      <td>4.000000</td>\n",
       "      <td>1.000000</td>\n",
       "      <td>11.000000</td>\n",
       "      <td>4.000000</td>\n",
       "      <td>3.000000</td>\n",
       "      <td>3.000000</td>\n",
       "      <td>2.000000</td>\n",
       "    </tr>\n",
       "    <tr>\n",
       "      <th>75%</th>\n",
       "      <td>2018-01-01 00:00:00</td>\n",
       "      <td>69.682500</td>\n",
       "      <td>1.000000</td>\n",
       "      <td>99.635000</td>\n",
       "      <td>5.270000</td>\n",
       "      <td>0.550000</td>\n",
       "      <td>6750.000000</td>\n",
       "      <td>1.000000</td>\n",
       "      <td>1.000000</td>\n",
       "      <td>0.000000</td>\n",
       "      <td>...</td>\n",
       "      <td>2.000000</td>\n",
       "      <td>1.000000</td>\n",
       "      <td>2.000000</td>\n",
       "      <td>4.000000</td>\n",
       "      <td>2.000000</td>\n",
       "      <td>12.000000</td>\n",
       "      <td>4.000000</td>\n",
       "      <td>4.000000</td>\n",
       "      <td>4.000000</td>\n",
       "      <td>3.000000</td>\n",
       "    </tr>\n",
       "    <tr>\n",
       "      <th>max</th>\n",
       "      <td>2018-01-01 00:00:00</td>\n",
       "      <td>84.200000</td>\n",
       "      <td>2.000000</td>\n",
       "      <td>310.260000</td>\n",
       "      <td>55.490000</td>\n",
       "      <td>0.780000</td>\n",
       "      <td>51880.000000</td>\n",
       "      <td>1.000000</td>\n",
       "      <td>1.000000</td>\n",
       "      <td>1.000000</td>\n",
       "      <td>...</td>\n",
       "      <td>3.000000</td>\n",
       "      <td>2.000000</td>\n",
       "      <td>4.000000</td>\n",
       "      <td>4.000000</td>\n",
       "      <td>2.000000</td>\n",
       "      <td>17.000000</td>\n",
       "      <td>4.000000</td>\n",
       "      <td>4.000000</td>\n",
       "      <td>6.000000</td>\n",
       "      <td>4.000000</td>\n",
       "    </tr>\n",
       "    <tr>\n",
       "      <th>std</th>\n",
       "      <td>NaN</td>\n",
       "      <td>11.496019</td>\n",
       "      <td>0.546208</td>\n",
       "      <td>48.522488</td>\n",
       "      <td>10.682218</td>\n",
       "      <td>0.189771</td>\n",
       "      <td>7055.343047</td>\n",
       "      <td>0.478091</td>\n",
       "      <td>0.473085</td>\n",
       "      <td>0.422944</td>\n",
       "      <td>...</td>\n",
       "      <td>0.428054</td>\n",
       "      <td>0.762066</td>\n",
       "      <td>1.197554</td>\n",
       "      <td>0.658933</td>\n",
       "      <td>0.840516</td>\n",
       "      <td>2.098191</td>\n",
       "      <td>0.560658</td>\n",
       "      <td>0.754903</td>\n",
       "      <td>1.786552</td>\n",
       "      <td>0.754903</td>\n",
       "    </tr>\n",
       "  </tbody>\n",
       "</table>\n",
       "<p>8 rows × 118 columns</p>\n",
       "</div>"
      ],
      "text/plain": [
       "                           Data_year  KOF_Globalis  Work_rightCIRI  \\\n",
       "count                             70     70.000000       70.000000   \n",
       "mean   2017-04-14 22:17:08.571428608     61.689857        0.614286   \n",
       "min              2016-01-01 00:00:00     38.570000        0.000000   \n",
       "25%              2016-01-01 00:00:00     54.405000        0.000000   \n",
       "50%              2018-01-01 00:00:00     61.875000        1.000000   \n",
       "75%              2018-01-01 00:00:00     69.682500        1.000000   \n",
       "max              2018-01-01 00:00:00     84.200000        2.000000   \n",
       "std                              NaN     11.496019        0.546208   \n",
       "\n",
       "       Trade_open        FDI  VDEM_Libdem    GDPpc_2016   Armedcon       Asia  \\\n",
       "count   70.000000  70.000000    70.000000     70.000000  70.000000  70.000000   \n",
       "mean    77.148143   4.552000     0.401143   5398.000000   0.342857   0.328571   \n",
       "min     20.720000 -37.170000     0.110000    320.000000   0.000000   0.000000   \n",
       "25%     43.057500   1.100000     0.232500   1385.000000   0.000000   0.000000   \n",
       "50%     64.900000   2.660000     0.450000   3580.000000   0.000000   0.000000   \n",
       "75%     99.635000   5.270000     0.550000   6750.000000   1.000000   1.000000   \n",
       "max    310.260000  55.490000     0.780000  51880.000000   1.000000   1.000000   \n",
       "std     48.522488  10.682218     0.189771   7055.343047   0.478091   0.473085   \n",
       "\n",
       "       Subsah_Africa  ...  Pol_right_F_2011  Indep_judic_2011  Rape_prev_2018  \\\n",
       "count      70.000000  ...         70.000000         70.000000       65.000000   \n",
       "mean        0.228571  ...          2.071429          0.642857        1.415385   \n",
       "min         0.000000  ...          1.000000          0.000000        0.000000   \n",
       "25%         0.000000  ...          2.000000          0.000000        1.000000   \n",
       "50%         0.000000  ...          2.000000          0.000000        1.000000   \n",
       "75%         0.000000  ...          2.000000          1.000000        2.000000   \n",
       "max         1.000000  ...          3.000000          2.000000        4.000000   \n",
       "std         0.422944  ...          0.428054          0.762066        1.197554   \n",
       "\n",
       "       Rape_report_2015  Rape_enclave_2015  Rape_compl_2018  Phys_secF_2014  \\\n",
       "count         67.000000          67.000000        65.000000       67.000000   \n",
       "mean           3.462687           0.925373        11.061538        3.492537   \n",
       "min            2.000000           0.000000         7.000000        2.000000   \n",
       "25%            3.000000           0.000000        10.000000        3.000000   \n",
       "50%            4.000000           1.000000        11.000000        4.000000   \n",
       "75%            4.000000           2.000000        12.000000        4.000000   \n",
       "max            4.000000           2.000000        17.000000        4.000000   \n",
       "std            0.658933           0.840516         2.098191        0.560658   \n",
       "\n",
       "       Phys_secF_2019  Gender_equal_2015  Hum_traff_2019  \n",
       "count       67.000000          67.000000       67.000000  \n",
       "mean         3.283582           2.462687        2.283582  \n",
       "min          2.000000           0.000000        1.000000  \n",
       "25%          3.000000           1.000000        2.000000  \n",
       "50%          3.000000           3.000000        2.000000  \n",
       "75%          4.000000           4.000000        3.000000  \n",
       "max          4.000000           6.000000        4.000000  \n",
       "std          0.754903           1.786552        0.754903  \n",
       "\n",
       "[8 rows x 118 columns]"
      ]
     },
     "execution_count": 3,
     "metadata": {},
     "output_type": "execute_result"
    }
   ],
   "source": [
    "data.describe()"
   ]
  },
  {
   "attachments": {},
   "cell_type": "markdown",
   "metadata": {},
   "source": [
    "# `1) Data preprocesing `"
   ]
  },
  {
   "attachments": {},
   "cell_type": "markdown",
   "metadata": {},
   "source": [
    "Due to relative lack of data, the researchers first grouped the metrics to 2 distinct groups, those that were estimated before 2016 and those after."
   ]
  },
  {
   "cell_type": "code",
   "execution_count": 4,
   "metadata": {},
   "outputs": [],
   "source": [
    "group1 = data[data['Data_year'] <= '2016-01-01']\n",
    "group2 = data[data['Data_year'] > '2016-01-01']\n",
    "\n",
    "data = pd.concat([group1, group2], axis=0)"
   ]
  },
  {
   "attachments": {},
   "cell_type": "markdown",
   "metadata": {},
   "source": [
    "After that, the researchers removed the variables that had over 50% missing data"
   ]
  },
  {
   "cell_type": "code",
   "execution_count": 5,
   "metadata": {},
   "outputs": [],
   "source": [
    "missing_data = data.isna().mean()\n",
    "columns_to_keep = missing_data[missing_data <= 0.5].index\n",
    "data = data[columns_to_keep]"
   ]
  },
  {
   "attachments": {},
   "cell_type": "markdown",
   "metadata": {},
   "source": [
    "Finally for the first part of data pre-processing, they filled missing values for countries with data available in either 2016 or 2018:\n"
   ]
  },
  {
   "cell_type": "code",
   "execution_count": 8,
   "metadata": {},
   "outputs": [],
   "source": [
    "for country in data['Country'].unique():\n",
    "    country_data = data[data['Country'] == country]\n",
    "    data.loc[data['Country'] == country, :] = country_data.fillna(method='ffill').fillna(method='bfill')"
   ]
  },
  {
   "cell_type": "code",
   "execution_count": 9,
   "metadata": {},
   "outputs": [],
   "source": [
    "import numpy as np\n",
    "from sklearn.experimental import enable_iterative_imputer\n",
    "from sklearn.impute import IterativeImputer\n",
    "from sklearn.tree import DecisionTreeRegressor\n",
    "from sklearn.preprocessing import MinMaxScaler"
   ]
  },
  {
   "attachments": {},
   "cell_type": "markdown",
   "metadata": {},
   "source": [
    "Impute remaining missing values using multivariate feature imputation with regression trees:"
   ]
  },
  {
   "cell_type": "code",
   "execution_count": 10,
   "metadata": {},
   "outputs": [],
   "source": [
    "imputer = IterativeImputer(estimator=DecisionTreeRegressor(), random_state=42)\n",
    "data_imputed = imputer.fit_transform(data.drop(columns=['Country', 'Data_year', 'Region']))"
   ]
  },
  {
   "attachments": {},
   "cell_type": "markdown",
   "metadata": {},
   "source": [
    "Normalize variables between 0 and 1:"
   ]
  },
  {
   "cell_type": "code",
   "execution_count": 11,
   "metadata": {},
   "outputs": [],
   "source": [
    "scaler = MinMaxScaler()\n",
    "data_normalized = scaler.fit_transform(data_imputed)"
   ]
  },
  {
   "attachments": {},
   "cell_type": "markdown",
   "metadata": {},
   "source": [
    "Convert the imputed and normalized data back to a DataFrame and reattach non-numeric columns:"
   ]
  },
  {
   "cell_type": "code",
   "execution_count": 12,
   "metadata": {},
   "outputs": [],
   "source": [
    "columns = [col for col in data.columns if col not in ['Country', 'Data_year', 'Region']]\n",
    "data_processed = pd.DataFrame(data_normalized, columns=columns)\n",
    "data_processed['Country'] = data['Country'].values\n",
    "data_processed['Data_year'] = data['Data_year'].values\n",
    "data_processed['Region'] = data['Region'].values\n"
   ]
  },
  {
   "attachments": {},
   "cell_type": "markdown",
   "metadata": {},
   "source": [
    "# `2. Slavery Estimation Using All Features`\n",
    "\n",
    "We will use [Out of Sample data](oos_data.csv) to evaluate our model."
   ]
  },
  {
   "cell_type": "code",
   "execution_count": 13,
   "metadata": {},
   "outputs": [],
   "source": [
    "from sklearn.model_selection import train_test_split\n",
    "from sklearn.linear_model import LinearRegression, Ridge, Lasso\n",
    "from sklearn.tree import DecisionTreeRegressor\n",
    "from sklearn.ensemble import RandomForestRegressor\n",
    "from sklearn.metrics import mean_absolute_error"
   ]
  },
  {
   "cell_type": "code",
   "execution_count": 14,
   "metadata": {},
   "outputs": [],
   "source": [
    "oos_data = pd.read_csv(\"oos_data.csv\")\n",
    "oos_data['Data_year'] = pd.to_datetime(oos_data['Data_year'], format='%Y')"
   ]
  },
  {
   "attachments": {},
   "cell_type": "markdown",
   "metadata": {},
   "source": [
    "### `Column Mapping` between the Out of Sample dataset and the Preprocessed dataset estimated in `Q1`"
   ]
  },
  {
   "cell_type": "code",
   "execution_count": 15,
   "metadata": {},
   "outputs": [],
   "source": [
    "column_mapping = {\n",
    "    'AIDS_Orph': ['AIDS_Orph_2016', 'AIDS_Orph_2018'],\n",
    "    'GDPpc': 'GDPpc_2016',\n",
    "    'Gender_equal': 'Gender_equal_2015',\n",
    "    'Phys_secF': ['Phys_secF_2014', 'Phys_secF_2019'],\n",
    "    'Rape_enclave': 'Rape_enclave_2015',\n",
    "    'Rape_report': 'Rape_report_2015'\n",
    "}\n",
    "\n",
    "oos_data_updated = oos_data.copy()\n",
    "for old_col, new_col in column_mapping.items():\n",
    "    if isinstance(new_col, list):\n",
    "        oos_data_updated[new_col[0]] = oos_data_updated[old_col]\n",
    "        oos_data_updated[new_col[1]] = oos_data_updated[old_col]\n",
    "    else:\n",
    "        oos_data_updated[new_col] = oos_data_updated[old_col]\n",
    "\n",
    "# Drop the old columns\n",
    "oos_data_updated.drop(column_mapping.keys(), axis=1, inplace=True)"
   ]
  },
  {
   "attachments": {},
   "cell_type": "markdown",
   "metadata": {},
   "source": [
    "We first need to split the dataset into train and test parts - 1 train-test group for pre 2016 and one for post 2016 data"
   ]
  },
  {
   "cell_type": "code",
   "execution_count": 16,
   "metadata": {},
   "outputs": [],
   "source": [
    "# We Split the data based on the year\n",
    "train_data_2016 = data_processed[data_processed['Data_year'] == '2016-01-01']\n",
    "train_data_2018 = data_processed[data_processed['Data_year'] != '2016-01-01']\n",
    "\n",
    "test_data_2016 = oos_data_updated[oos_data_updated['Data_year'] == '2016']\n",
    "test_data_2018 = oos_data_updated[oos_data_updated['Data_year'] == '2018']"
   ]
  },
  {
   "cell_type": "code",
   "execution_count": 17,
   "metadata": {},
   "outputs": [],
   "source": [
    "# Define the features and target variable\n",
    "target = 'SLAVERY'\n",
    "common_features = set(train_data_2016.columns).intersection(set(oos_data_updated.columns))\n",
    "\n",
    "features = [col for col in common_features if col not in ['Country', 'Data_year', 'Region', target]]\n"
   ]
  },
  {
   "cell_type": "code",
   "execution_count": 18,
   "metadata": {},
   "outputs": [],
   "source": [
    "# Preparation of the train and test datasets\n",
    "X_train_2016 = train_data_2016[features]\n",
    "y_train_2016 = train_data_2016[target]\n",
    "\n",
    "X_train_2018 = train_data_2018[features]\n",
    "y_train_2018 = train_data_2018[target]\n",
    "\n",
    "X_test_2016 = oos_data_updated[oos_data_updated['Data_year'] == '2016'][features]\n",
    "y_test_2016 = oos_data_updated[oos_data_updated['Data_year'] == '2016'][target]\n",
    "\n",
    "X_test_2018 = oos_data_updated[oos_data_updated['Data_year'] == '2018'][features]\n",
    "y_test_2018 = oos_data_updated[oos_data_updated['Data_year'] == '2018'][target]"
   ]
  },
  {
   "attachments": {},
   "cell_type": "markdown",
   "metadata": {},
   "source": [
    "### Since there are still Null values on oos_data dataframe, we can impute the missing values in both the train and test datasets before fitting the models. We will use the SimpleImputer class from scikit-learn to impute the missing values with the mean of each column."
   ]
  },
  {
   "cell_type": "code",
   "execution_count": 19,
   "metadata": {},
   "outputs": [],
   "source": [
    "from sklearn.impute import SimpleImputer\n",
    "imputer = SimpleImputer(strategy='mean')\n",
    "imputer.fit(X_train_2016)\n",
    "X_train_2016 = imputer.transform(X_train_2016)\n",
    "X_test_2016 = imputer.transform(X_test_2016)\n",
    "\n",
    "# Fit the imputer on the 2018 training data\n",
    "imputer.fit(X_train_2018)\n",
    "\n",
    "X_train_2018 = imputer.transform(X_train_2018)\n",
    "X_test_2018 = imputer.transform(X_test_2018)\n"
   ]
  },
  {
   "attachments": {},
   "cell_type": "markdown",
   "metadata": {},
   "source": [
    "Finally, we train the models and evaluating them using MAE:"
   ]
  },
  {
   "cell_type": "code",
   "execution_count": 20,
   "metadata": {},
   "outputs": [
    {
     "name": "stdout",
     "output_type": "stream",
     "text": [
      "* Linear Regression - MAE 2016: 4239.31, MAE 2018: 6813.33\n",
      "* Ridge Regression - MAE 2016: 4284.54, MAE 2018: 5454.31\n",
      "* Lasso Regression - MAE 2016: 0.39, MAE 2018: 0.41\n",
      "* Decision Tree - MAE 2016: 0.44, MAE 2018: 0.51\n",
      "* Random Forest - MAE 2016: 0.40, MAE 2018: 0.37\n"
     ]
    }
   ],
   "source": [
    "models = {\n",
    "    'Linear Regression': LinearRegression(),\n",
    "    'Ridge Regression': Ridge(),\n",
    "    'Lasso Regression': Lasso(),\n",
    "    'Decision Tree': DecisionTreeRegressor(),\n",
    "    'Random Forest': RandomForestRegressor()\n",
    "}\n",
    "\n",
    "for name, model in models.items():\n",
    "    # Train and evaluate the model for 2016 data\n",
    "    model.fit(X_train_2016, y_train_2016)\n",
    "    y_pred_2016 = model.predict(X_test_2016)\n",
    "    mae_2016 = mean_absolute_error(y_test_2016, y_pred_2016)\n",
    "    \n",
    "    # Train and evaluate the model for 2018 data\n",
    "    model.fit(X_train_2018, y_train_2018)\n",
    "    y_pred_2018 = model.predict(X_test_2018)\n",
    "    mae_2018 = mean_absolute_error(y_test_2018, y_pred_2018)\n",
    "    \n",
    "    print(f\"* {name} - MAE 2016: {mae_2016:.2f}, MAE 2018: {mae_2018:.2f}\")\n"
   ]
  },
  {
   "attachments": {},
   "cell_type": "markdown",
   "metadata": {},
   "source": [
    "### In order to extract the 10 most important variables considered by the 'Decision Tree' and 'Random Forest' models, we will make use of their `feature_importances_` element."
   ]
  },
  {
   "cell_type": "code",
   "execution_count": 21,
   "metadata": {},
   "outputs": [
    {
     "name": "stdout",
     "output_type": "stream",
     "text": [
      "Decision Tree - Top 10 Feature Importances:\n",
      "* Neonatal_mort: 0.5462\n",
      "* Water_acc: 0.2215\n",
      "* Sexwrk_HIV: 0.0849\n",
      "* Free_discuss: 0.0575\n",
      "* Piped_water: 0.0274\n",
      "* Fish_overexploit: 0.0143\n",
      "* Tuberculosis: 0.0139\n",
      "* Infrastruct: 0.0125\n",
      "* Primary_school: 0.0062\n",
      "* Pol_terror: 0.0036\n"
     ]
    }
   ],
   "source": [
    "# Decision Tree\n",
    "importances_dt = models['Decision Tree'].feature_importances_\n",
    "indices_dt = np.argsort(importances_dt)[-10:]  # Top 10 features\n",
    "import_dt_dict  = dict()\n",
    "print(\"Decision Tree - Top 10 Feature Importances:\")\n",
    "for i in indices_dt[::-1]:\n",
    "    print(f\"* {features[i]}: {importances_dt[i]:.4f}\")\n",
    "    import_dt_dict[features[i]] = importances_dt[i]\n"
   ]
  },
  {
   "cell_type": "code",
   "execution_count": 22,
   "metadata": {},
   "outputs": [
    {
     "name": "stdout",
     "output_type": "stream",
     "text": [
      "Random Forest - Top 10 Feature Importances:\n",
      "* Neonatal_mort: 0.1498\n",
      "* Internet_use: 0.0978\n",
      "* Piped_water: 0.0861\n",
      "* Tuberculosis: 0.0607\n",
      "* F_school: 0.0592\n",
      "* Water_acc: 0.0510\n",
      "* CPI: 0.0326\n",
      "* Literacy_15_24yrs: 0.0315\n",
      "* Fuel_acc: 0.0314\n",
      "* Free_discuss: 0.0272\n"
     ]
    }
   ],
   "source": [
    "# Random Forest\n",
    "importances_rf = models['Random Forest'].feature_importances_\n",
    "indices_rf = np.argsort(importances_rf)[-10:]\n",
    "print(\"Random Forest - Top 10 Feature Importances:\")\n",
    "import_rf_set = dict()\n",
    "for i in indices_rf[::-1]:\n",
    "    print(f\"* {features[i]}: {importances_rf[i]:.4f}\")\n",
    "    import_rf_set[features[i]] = importances_rf[i]"
   ]
  },
  {
   "attachments": {},
   "cell_type": "markdown",
   "metadata": {},
   "source": [
    "### The common variables considered amongst the top most important ones between the two models can be found by the intersection of the two sets of keys, produced by the dictionaries above: "
   ]
  },
  {
   "cell_type": "code",
   "execution_count": 23,
   "metadata": {},
   "outputs": [
    {
     "name": "stdout",
     "output_type": "stream",
     "text": [
      "Common Important Variables:\n",
      "*  Tuberculosis\n",
      "*  Piped_water\n",
      "*  Free_discuss\n",
      "*  Neonatal_mort\n",
      "*  Water_acc\n"
     ]
    }
   ],
   "source": [
    "common_importance_vars = set(import_dt_dict.keys()).intersection(set(import_rf_set.keys()))\n",
    "print(\"Common Important Variables:\")\n",
    "for var in common_importance_vars:\n",
    "    print(\"* \", var)"
   ]
  },
  {
   "attachments": {},
   "cell_type": "markdown",
   "metadata": {},
   "source": [
    "As we can observe, Neonatal Mortality (per 1000 live births), Net primary school enrolment rate (%), Access to improved water (%) and Incidence of tuberculosis (per 100,000) are the `4 features` providing the highest source of information for predicting the \"Modern Slavery\" from our dataset, in both models."
   ]
  },
  {
   "attachments": {},
   "cell_type": "markdown",
   "metadata": {},
   "source": [
    "# `3. Slavery Estimation with Theory-based Features`"
   ]
  },
  {
   "attachments": {},
   "cell_type": "markdown",
   "metadata": {},
   "source": [
    "#### The Theory-based selected features of the researchers, were derived from the dataset that can be found [here](https://github.com/ml-slavery/ml-slavery/blob/main/Data/Meta_Data/Variable_descriptions.csv) "
   ]
  },
  {
   "cell_type": "code",
   "execution_count": 24,
   "metadata": {},
   "outputs": [
    {
     "data": {
      "application/vnd.microsoft.datawrangler.viewer.v0+json": {
       "columns": [
        {
         "name": "index",
         "rawType": "int64",
         "type": "integer"
        },
        {
         "name": "Variable Name",
         "rawType": "object",
         "type": "string"
        },
        {
         "name": "Short Variable Description",
         "rawType": "object",
         "type": "string"
        },
        {
         "name": "Source Extracted from",
         "rawType": "object",
         "type": "string"
        },
        {
         "name": "Cited Original Source",
         "rawType": "object",
         "type": "string"
        },
        {
         "name": "Theory Selected?",
         "rawType": "object",
         "type": "string"
        }
       ],
       "ref": "5d2b0f8a-2c63-441d-963a-f6015bd01094",
       "rows": [
        [
         "0",
         "AIDS_death",
         "Number of AIDS-related deaths",
         "UNAIDS",
         "UNAIDS",
         "N"
        ],
        [
         "1",
         "AIDS_Orph",
         "AIDS orphans (0-17)",
         "UNAIDS",
         "UNAIDS",
         "Y"
        ],
        [
         "2",
         "Armedcon",
         "Is there the presence of any type of armed conflict? Coded as a dummy variable (i.e., 1 for armed con- flict, 0 for no armed conflict).",
         "Silverman and Landman (2019)",
         "Uppsala Conflict Data Project (UCDP) ",
         "Y"
        ],
        [
         "3",
         "ATMs",
         "Automated teller machines (per 100,000)",
         "UN's SDGs dataset (2018)",
         "IMF Financial Access Survey (2015)",
         "Y"
        ],
        [
         "4",
         "Battle_deaths",
         "Battle-related deaths (log of battle related deaths plus 1)",
         "Early Warning Project ",
         "Peace Research Institute Oslo (PRIO) and Uppsala Conflict Data Program (UCDP) ",
         "N"
        ]
       ],
       "shape": {
        "columns": 5,
        "rows": 5
       }
      },
      "text/html": [
       "<div>\n",
       "<style scoped>\n",
       "    .dataframe tbody tr th:only-of-type {\n",
       "        vertical-align: middle;\n",
       "    }\n",
       "\n",
       "    .dataframe tbody tr th {\n",
       "        vertical-align: top;\n",
       "    }\n",
       "\n",
       "    .dataframe thead th {\n",
       "        text-align: right;\n",
       "    }\n",
       "</style>\n",
       "<table border=\"1\" class=\"dataframe\">\n",
       "  <thead>\n",
       "    <tr style=\"text-align: right;\">\n",
       "      <th></th>\n",
       "      <th>Variable Name</th>\n",
       "      <th>Short Variable Description</th>\n",
       "      <th>Source Extracted from</th>\n",
       "      <th>Cited Original Source</th>\n",
       "      <th>Theory Selected?</th>\n",
       "    </tr>\n",
       "  </thead>\n",
       "  <tbody>\n",
       "    <tr>\n",
       "      <th>0</th>\n",
       "      <td>AIDS_death</td>\n",
       "      <td>Number of AIDS-related deaths</td>\n",
       "      <td>UNAIDS</td>\n",
       "      <td>UNAIDS</td>\n",
       "      <td>N</td>\n",
       "    </tr>\n",
       "    <tr>\n",
       "      <th>1</th>\n",
       "      <td>AIDS_Orph</td>\n",
       "      <td>AIDS orphans (0-17)</td>\n",
       "      <td>UNAIDS</td>\n",
       "      <td>UNAIDS</td>\n",
       "      <td>Y</td>\n",
       "    </tr>\n",
       "    <tr>\n",
       "      <th>2</th>\n",
       "      <td>Armedcon</td>\n",
       "      <td>Is there the presence of any type of armed con...</td>\n",
       "      <td>Silverman and Landman (2019)</td>\n",
       "      <td>Uppsala Conflict Data Project (UCDP)</td>\n",
       "      <td>Y</td>\n",
       "    </tr>\n",
       "    <tr>\n",
       "      <th>3</th>\n",
       "      <td>ATMs</td>\n",
       "      <td>Automated teller machines (per 100,000)</td>\n",
       "      <td>UN's SDGs dataset (2018)</td>\n",
       "      <td>IMF Financial Access Survey (2015)</td>\n",
       "      <td>Y</td>\n",
       "    </tr>\n",
       "    <tr>\n",
       "      <th>4</th>\n",
       "      <td>Battle_deaths</td>\n",
       "      <td>Battle-related deaths (log of battle related d...</td>\n",
       "      <td>Early Warning Project</td>\n",
       "      <td>Peace Research Institute Oslo (PRIO) and Uppsa...</td>\n",
       "      <td>N</td>\n",
       "    </tr>\n",
       "  </tbody>\n",
       "</table>\n",
       "</div>"
      ],
      "text/plain": [
       "   Variable Name                         Short Variable Description  \\\n",
       "0     AIDS_death                      Number of AIDS-related deaths   \n",
       "1      AIDS_Orph                                AIDS orphans (0-17)   \n",
       "2       Armedcon  Is there the presence of any type of armed con...   \n",
       "3           ATMs            Automated teller machines (per 100,000)   \n",
       "4  Battle_deaths  Battle-related deaths (log of battle related d...   \n",
       "\n",
       "          Source Extracted from  \\\n",
       "0                        UNAIDS   \n",
       "1                        UNAIDS   \n",
       "2  Silverman and Landman (2019)   \n",
       "3      UN's SDGs dataset (2018)   \n",
       "4        Early Warning Project    \n",
       "\n",
       "                               Cited Original Source Theory Selected?  \n",
       "0                                             UNAIDS                N  \n",
       "1                                             UNAIDS                Y  \n",
       "2              Uppsala Conflict Data Project (UCDP)                 Y  \n",
       "3                 IMF Financial Access Survey (2015)                Y  \n",
       "4  Peace Research Institute Oslo (PRIO) and Uppsa...                N  "
      ]
     },
     "execution_count": 24,
     "metadata": {},
     "output_type": "execute_result"
    }
   ],
   "source": [
    "var_descr = pd.read_csv(\"https://raw.githubusercontent.com/ml-slavery/ml-slavery/main/Data/Meta_Data/Variable_descriptions.csv\")\n",
    "var_descr.head()"
   ]
  },
  {
   "attachments": {},
   "cell_type": "markdown",
   "metadata": {},
   "source": [
    "### The variables which are marked as `Y` on the `Theory Selected?` column of the dataset, are the ones selected for the research based on the theory of [WFF GSI (2018b) Methodology, Vulnerability Model.](https://www.globalslaveryindex.org/2018/methodology/vulnerability/)"
   ]
  },
  {
   "cell_type": "code",
   "execution_count": 25,
   "metadata": {},
   "outputs": [
    {
     "name": "stdout",
     "output_type": "stream",
     "text": [
      "Number of theory-selected variables:  34\n"
     ]
    }
   ],
   "source": [
    "vars_selected = var_descr[var_descr['Theory Selected?'] == 'Y']['Variable Name'].reset_index(drop=True)\n",
    "vars_selected = vars_selected.to_list()\n",
    "print(\"Number of theory-selected variables: \",len(vars_selected))"
   ]
  },
  {
   "attachments": {},
   "cell_type": "markdown",
   "metadata": {},
   "source": [
    "#### 'SLAVERY', the target variable, compliments the total of $35$ variables selected by the theory.\n",
    "#### Nevertheless, there are some variables like \"AIDS_Orph\", that are splitted inside our original dataset on two years - 2016 and 2018, so we will need to do some ground work for them in order to be inherited during the training process of the new models."
   ]
  },
  {
   "cell_type": "code",
   "execution_count": 26,
   "metadata": {},
   "outputs": [],
   "source": [
    "# The problematic variables are 'AIDS_Orph', 'GDPpc', 'Gender_equal', 'Phys_secF', 'Rape_enclave', 'Rape_report'\n",
    "# We first append the original variables to the list\n",
    "vars_selected.append('AIDS_Orph_2016')\n",
    "vars_selected.append('AIDS_Orph_2018')\n",
    "vars_selected.append('GDPpc_2016')\n",
    "vars_selected.append('Gender_equal_2015')\n",
    "vars_selected.append('Phys_secF_2014')\n",
    "vars_selected.append('Phys_secF_2019')\n",
    "vars_selected.append('Rape_enclave_2015')\n",
    "vars_selected.append('Rape_report_2015')\n",
    "# Then we remove the problematic variables\n",
    "vars_selected.remove('GDPpc')\n",
    "vars_selected.remove('Gender_equal')\n",
    "vars_selected.remove('Phys_secF')\n",
    "vars_selected.remove('Rape_enclave')\n",
    "vars_selected.remove('AIDS_Orph')\n",
    "vars_selected.remove('Rape_report')"
   ]
  },
  {
   "cell_type": "code",
   "execution_count": 28,
   "metadata": {},
   "outputs": [],
   "source": [
    "target = 'SLAVERY'\n",
    "features_th = [col for col in vars_selected if col not in ['Country', 'Data_year', 'Region', target]]\n",
    "# Once again, we repare the train and test datasets based on the 34 selected features\n",
    "X_train_2016_th = train_data_2016[features_th]\n",
    "y_train_2016_th = train_data_2016[target]\n",
    "\n",
    "X_train_2018_th = train_data_2018[features_th]\n",
    "y_train_2018_th = train_data_2018[target]\n",
    "\n",
    "X_test_2016_th = oos_data_updated[oos_data_updated['Data_year'] == '2016'][features_th]\n",
    "y_test_2016_th = oos_data_updated[oos_data_updated['Data_year'] == '2016'][target]\n",
    "\n",
    "X_test_2018_th = oos_data_updated[oos_data_updated['Data_year'] == '2018'][features_th]\n",
    "y_test_2018_th = oos_data_updated[oos_data_updated['Data_year'] == '2018'][target]\n",
    "\n",
    "# We impute the null values from the train and test datasets once again\n",
    "from sklearn.impute import SimpleImputer\n",
    "imputer = SimpleImputer(strategy='mean')\n",
    "imputer.fit(X_train_2016_th)\n",
    "X_train_2016_th = imputer.transform(X_train_2016_th)\n",
    "X_test_2016_th = imputer.transform(X_test_2016_th)\n",
    "\n",
    "# Fit the imputer on the 2018 training data\n",
    "imputer.fit(X_train_2018_th)\n",
    "\n",
    "X_train_2018_th = imputer.transform(X_train_2018_th)\n",
    "X_test_2018_th = imputer.transform(X_test_2018_th)"
   ]
  },
  {
   "cell_type": "code",
   "execution_count": 29,
   "metadata": {},
   "outputs": [
    {
     "name": "stdout",
     "output_type": "stream",
     "text": [
      "* Linear Regression - MAE 2016: 44355.06, MAE 2018: 16131.98\n",
      "* Ridge Regression - MAE 2016: 10355.32, MAE 2018: 5159.51\n",
      "* Lasso Regression - MAE 2016: 0.39, MAE 2018: 0.41\n",
      "* Decision Tree - MAE 2016: 0.43, MAE 2018: 0.51\n",
      "* Random Forest - MAE 2016: 0.38, MAE 2018: 0.38\n"
     ]
    }
   ],
   "source": [
    "models = {\n",
    "    'Linear Regression': LinearRegression(),\n",
    "    'Ridge Regression': Ridge(),\n",
    "    'Lasso Regression': Lasso(),\n",
    "    'Decision Tree': DecisionTreeRegressor(),\n",
    "    'Random Forest': RandomForestRegressor()\n",
    "}\n",
    "\n",
    "for name, model in models.items():\n",
    "    # Train and evaluate the model for 2016 data\n",
    "    model.fit(X_train_2016_th, y_train_2016_th)\n",
    "    y_pred_2016_th = model.predict(X_test_2016_th)\n",
    "    mae_2016 = mean_absolute_error(y_test_2016_th, y_pred_2016_th)\n",
    "    \n",
    "    # Train and evaluate the model for 2018 data\n",
    "    model.fit(X_train_2018_th, y_train_2018_th)\n",
    "    y_pred_2018_th = model.predict(X_test_2018_th)\n",
    "    mae_2018 = mean_absolute_error(y_test_2018_th, y_pred_2018_th)\n",
    "    \n",
    "    print(f\"* {name} - MAE 2016: {mae_2016:.2f}, MAE 2018: {mae_2018:.2f}\")"
   ]
  },
  {
   "attachments": {},
   "cell_type": "markdown",
   "metadata": {},
   "source": [
    "### Variable Importance"
   ]
  },
  {
   "cell_type": "code",
   "execution_count": 30,
   "metadata": {},
   "outputs": [
    {
     "name": "stdout",
     "output_type": "stream",
     "text": [
      "Decision Tree - Top 10 Feature Importances:\n",
      "* Neonatal_mort: 0.5462\n",
      "* Internet_use: 0.1892\n",
      "* CPI: 0.1309\n",
      "* Free_discuss: 0.0400\n",
      "* Sexwrk_Syphilis: 0.0350\n",
      "* AIDS_Orph_2016: 0.0143\n",
      "* Sexwrk_condom: 0.0123\n",
      "* Freemv_M: 0.0111\n",
      "* Infrastruct: 0.0055\n",
      "* Wasting_u5s: 0.0054\n"
     ]
    }
   ],
   "source": [
    "# Decision Tree\n",
    "importances_dt = models['Decision Tree'].feature_importances_\n",
    "indices_dt = np.argsort(importances_dt)[-10:]  # Top 10 features\n",
    "import_dt_dict  = dict()\n",
    "print(\"Decision Tree - Top 10 Feature Importances:\")\n",
    "for i in indices_dt[::-1]:\n",
    "    print(f\"* {features_th[i]}: {importances_dt[i]:.4f}\")\n",
    "    import_dt_dict[features_th[i]] = importances_dt[i]\n",
    "    "
   ]
  },
  {
   "cell_type": "code",
   "execution_count": 31,
   "metadata": {},
   "outputs": [
    {
     "name": "stdout",
     "output_type": "stream",
     "text": [
      "Random Forest - Top 10 Feature Importances:\n",
      "* Neonatal_mort: 0.2675\n",
      "* Internet_use: 0.1635\n",
      "* F_school: 0.1147\n",
      "* Climate_chg_vuln: 0.0521\n",
      "* GDPpc_2016: 0.0504\n",
      "* CPI: 0.0431\n",
      "* Wasting_u5s: 0.0327\n",
      "* ATMs: 0.0318\n",
      "* Free_discuss: 0.0314\n",
      "* Broadband: 0.0206\n"
     ]
    }
   ],
   "source": [
    "# Random Forest\n",
    "importances_rf = models['Random Forest'].feature_importances_\n",
    "indices_rf = np.argsort(importances_rf)[-10:]\n",
    "print(\"Random Forest - Top 10 Feature Importances:\")\n",
    "import_rf_set = dict()\n",
    "for i in indices_rf[::-1]:\n",
    "    print(f\"* {features_th[i]}: {importances_rf[i]:.4f}\")\n",
    "    import_rf_set[features_th[i]] = importances_rf[i]"
   ]
  },
  {
   "cell_type": "code",
   "execution_count": 32,
   "metadata": {},
   "outputs": [
    {
     "name": "stdout",
     "output_type": "stream",
     "text": [
      "Common Important Variables:\n",
      "*  CPI\n",
      "*  Free_discuss\n",
      "*  Neonatal_mort\n",
      "*  Internet_use\n",
      "*  Wasting_u5s\n"
     ]
    }
   ],
   "source": [
    "common_importance_vars_reduced = set(import_dt_dict.keys()).intersection(set(import_rf_set.keys()))\n",
    "print(\"Common Important Variables:\")\n",
    "for var in common_importance_vars_reduced:\n",
    "    print(\"* \", var)"
   ]
  },
  {
   "attachments": {},
   "cell_type": "markdown",
   "metadata": {},
   "source": [
    "As it seems, Neonatal Mortality (per 1000 live births) is once again listed as a highly important feature for predicting Slavery, as we saw in the full-dataset trained model as well. Nevertheless, besides Neonatal Mortality, the intersection of the common important features between Decision Tree and Random Forest models of the reduced model based on Theory, indicate different features than the full-datset model, as important. Those features are:\n",
    "* Female years of schooling (% male)  - `Poor education levels might result to higher slavery percentages`\n",
    "* Internet use (%) - `Lack of internet access could also result in higher levels of slavery, since lack of internet means lack of communication with the world outside country borders`\n",
    "* Freedom of discussion: Are citizens able to openly discuss political issues in private homes and in public spaces? - `Stricter regimes that limit the freedom of speech of citizens could surely lead to higher slavery percentage levels, since those are usually fascist regimes`\n",
    "* Corruption Perception Index (0-100) - `Political or other in-state corruption could possible lead to higher slavery percentage levelsdue to inequality and injustice being held among citizens and their rights`"
   ]
  },
  {
   "attachments": {},
   "cell_type": "markdown",
   "metadata": {},
   "source": [
    "# `4. Slavery Estimation with PCA-derived Features`"
   ]
  },
  {
   "cell_type": "code",
   "execution_count": 33,
   "metadata": {},
   "outputs": [],
   "source": [
    "from sklearn.decomposition import PCA\n",
    "# Our data are already scaled to 0-1 so we don't have to perform and additional scaling here\n",
    "pca = PCA(n_components=6)\n",
    "X_train_2016_pca = pca.fit_transform(X_train_2016)\n",
    "X_train_2018_pca = pca.fit_transform(X_train_2018)\n",
    "X_test_2016_pca = pca.transform(X_test_2016)\n",
    "X_test_2018_pca = pca.transform(X_test_2018)\n"
   ]
  },
  {
   "cell_type": "code",
   "execution_count": 34,
   "metadata": {},
   "outputs": [
    {
     "name": "stdout",
     "output_type": "stream",
     "text": [
      "Explained Variance Ratio from 6 PCA Components:  61.47 %\n",
      "* Component 1: 31.0%\n",
      "* Component 2: 9.17%\n",
      "* Component 3: 6.5600000000000005%\n",
      "* Component 4: 5.11%\n",
      "* Component 5: 4.96%\n",
      "* Component 6: 4.65%\n"
     ]
    }
   ],
   "source": [
    "print(\"Explained Variance Ratio from 6 PCA Components: \", round(sum(pca.explained_variance_ratio_),4)*100, \"%\")\n",
    "for i in range(6):\n",
    "    print(f\"* Component {i+1}: {round(pca.explained_variance_ratio_[i],4)*100}%\")"
   ]
  },
  {
   "attachments": {},
   "cell_type": "markdown",
   "metadata": {},
   "source": [
    "Top features per component - we will find what are the top 5 features per PCA component in order to get a better understanding of what each component of the PCA algorithm is comprised from. We will use the absolute values of \"loadings\" of each component, which are essentially the coefficients (weights) assigned to each original feature in the transformed principal components.\n",
    "`Loadings` indicate the contribution of each feature to the principal components "
   ]
  },
  {
   "cell_type": "code",
   "execution_count": 35,
   "metadata": {},
   "outputs": [
    {
     "data": {
      "application/vnd.microsoft.datawrangler.viewer.v0+json": {
       "columns": [
        {
         "name": "index",
         "rawType": "int64",
         "type": "integer"
        },
        {
         "name": "PC1",
         "rawType": "object",
         "type": "unknown"
        },
        {
         "name": "PC2",
         "rawType": "object",
         "type": "unknown"
        },
        {
         "name": "PC3",
         "rawType": "object",
         "type": "unknown"
        },
        {
         "name": "PC4",
         "rawType": "object",
         "type": "unknown"
        },
        {
         "name": "PC5",
         "rawType": "object",
         "type": "unknown"
        },
        {
         "name": "PC6",
         "rawType": "object",
         "type": "unknown"
        }
       ],
       "ref": "40983a4b-416a-440f-8189-406716ab8616",
       "rows": [
        [
         "0",
         "{'Fuel_acc': 0.21}",
         "{'Democ': 0.35}",
         "{'Masskill_ever': 0.41}",
         "{'Freemv_F': 0.37}",
         "{'Democ': 0.35}",
         "{'Soc_powerdist': 0.51}"
        ],
        [
         "1",
         "{'Freemv_F': 0.2}",
         "{'Armedcon': -0.27}",
         "{'Democ': 0.39}",
         "{'Minority_rule': 0.33}",
         "{'Freemv_F': -0.35}",
         "{'Minority_rule': -0.44}"
        ],
        [
         "2",
         "{'Armedcon': -0.19}",
         "{'Minority_rule': -0.27}",
         "{'Rape_enclave_2015': 0.3}",
         "{'Inequality': 0.27}",
         "{'Rape_report_2015': 0.3}",
         "{'Masskill_ever': -0.21}"
        ],
        [
         "3",
         "{'Piped_water': 0.18}",
         "{'Fuel_acc': -0.2}",
         "{'Armedcon': 0.3}",
         "{'Phys_secF_2019': 0.27}",
         "{'M_school': -0.25}",
         "{'Gender_equal_2015': 0.19}"
        ],
        [
         "4",
         "{'Internet_use': 0.18}",
         "{'VDEM_Libdem': 0.19}",
         "{'Masskill_ongo': 0.25}",
         "{'GDPpc_growth': -0.25}",
         "{'Armedcon': -0.23}",
         "{'Democ': -0.17}"
        ],
        [
         "5",
         "{'Stunting_u5s': -0.17}",
         "{'Rape_enclave_2015': -0.17}",
         "{'Minority_rule': -0.2}",
         "{'Safe_night': -0.2}",
         "{'Phys_secF_2019': 0.22}",
         "{'Property_rights': 0.17}"
        ]
       ],
       "shape": {
        "columns": 6,
        "rows": 6
       }
      },
      "text/html": [
       "<div>\n",
       "<style scoped>\n",
       "    .dataframe tbody tr th:only-of-type {\n",
       "        vertical-align: middle;\n",
       "    }\n",
       "\n",
       "    .dataframe tbody tr th {\n",
       "        vertical-align: top;\n",
       "    }\n",
       "\n",
       "    .dataframe thead th {\n",
       "        text-align: right;\n",
       "    }\n",
       "</style>\n",
       "<table border=\"1\" class=\"dataframe\">\n",
       "  <thead>\n",
       "    <tr style=\"text-align: right;\">\n",
       "      <th></th>\n",
       "      <th>PC1</th>\n",
       "      <th>PC2</th>\n",
       "      <th>PC3</th>\n",
       "      <th>PC4</th>\n",
       "      <th>PC5</th>\n",
       "      <th>PC6</th>\n",
       "    </tr>\n",
       "  </thead>\n",
       "  <tbody>\n",
       "    <tr>\n",
       "      <th>0</th>\n",
       "      <td>{'Fuel_acc': 0.21}</td>\n",
       "      <td>{'Democ': 0.35}</td>\n",
       "      <td>{'Masskill_ever': 0.41}</td>\n",
       "      <td>{'Freemv_F': 0.37}</td>\n",
       "      <td>{'Democ': 0.35}</td>\n",
       "      <td>{'Soc_powerdist': 0.51}</td>\n",
       "    </tr>\n",
       "    <tr>\n",
       "      <th>1</th>\n",
       "      <td>{'Freemv_F': 0.2}</td>\n",
       "      <td>{'Armedcon': -0.27}</td>\n",
       "      <td>{'Democ': 0.39}</td>\n",
       "      <td>{'Minority_rule': 0.33}</td>\n",
       "      <td>{'Freemv_F': -0.35}</td>\n",
       "      <td>{'Minority_rule': -0.44}</td>\n",
       "    </tr>\n",
       "    <tr>\n",
       "      <th>2</th>\n",
       "      <td>{'Armedcon': -0.19}</td>\n",
       "      <td>{'Minority_rule': -0.27}</td>\n",
       "      <td>{'Rape_enclave_2015': 0.3}</td>\n",
       "      <td>{'Inequality': 0.27}</td>\n",
       "      <td>{'Rape_report_2015': 0.3}</td>\n",
       "      <td>{'Masskill_ever': -0.21}</td>\n",
       "    </tr>\n",
       "    <tr>\n",
       "      <th>3</th>\n",
       "      <td>{'Piped_water': 0.18}</td>\n",
       "      <td>{'Fuel_acc': -0.2}</td>\n",
       "      <td>{'Armedcon': 0.3}</td>\n",
       "      <td>{'Phys_secF_2019': 0.27}</td>\n",
       "      <td>{'M_school': -0.25}</td>\n",
       "      <td>{'Gender_equal_2015': 0.19}</td>\n",
       "    </tr>\n",
       "    <tr>\n",
       "      <th>4</th>\n",
       "      <td>{'Internet_use': 0.18}</td>\n",
       "      <td>{'VDEM_Libdem': 0.19}</td>\n",
       "      <td>{'Masskill_ongo': 0.25}</td>\n",
       "      <td>{'GDPpc_growth': -0.25}</td>\n",
       "      <td>{'Armedcon': -0.23}</td>\n",
       "      <td>{'Democ': -0.17}</td>\n",
       "    </tr>\n",
       "    <tr>\n",
       "      <th>5</th>\n",
       "      <td>{'Stunting_u5s': -0.17}</td>\n",
       "      <td>{'Rape_enclave_2015': -0.17}</td>\n",
       "      <td>{'Minority_rule': -0.2}</td>\n",
       "      <td>{'Safe_night': -0.2}</td>\n",
       "      <td>{'Phys_secF_2019': 0.22}</td>\n",
       "      <td>{'Property_rights': 0.17}</td>\n",
       "    </tr>\n",
       "  </tbody>\n",
       "</table>\n",
       "</div>"
      ],
      "text/plain": [
       "                       PC1                           PC2  \\\n",
       "0       {'Fuel_acc': 0.21}               {'Democ': 0.35}   \n",
       "1        {'Freemv_F': 0.2}           {'Armedcon': -0.27}   \n",
       "2      {'Armedcon': -0.19}      {'Minority_rule': -0.27}   \n",
       "3    {'Piped_water': 0.18}            {'Fuel_acc': -0.2}   \n",
       "4   {'Internet_use': 0.18}         {'VDEM_Libdem': 0.19}   \n",
       "5  {'Stunting_u5s': -0.17}  {'Rape_enclave_2015': -0.17}   \n",
       "\n",
       "                          PC3                       PC4  \\\n",
       "0     {'Masskill_ever': 0.41}        {'Freemv_F': 0.37}   \n",
       "1             {'Democ': 0.39}   {'Minority_rule': 0.33}   \n",
       "2  {'Rape_enclave_2015': 0.3}      {'Inequality': 0.27}   \n",
       "3           {'Armedcon': 0.3}  {'Phys_secF_2019': 0.27}   \n",
       "4     {'Masskill_ongo': 0.25}   {'GDPpc_growth': -0.25}   \n",
       "5     {'Minority_rule': -0.2}      {'Safe_night': -0.2}   \n",
       "\n",
       "                         PC5                          PC6  \n",
       "0            {'Democ': 0.35}      {'Soc_powerdist': 0.51}  \n",
       "1        {'Freemv_F': -0.35}     {'Minority_rule': -0.44}  \n",
       "2  {'Rape_report_2015': 0.3}     {'Masskill_ever': -0.21}  \n",
       "3        {'M_school': -0.25}  {'Gender_equal_2015': 0.19}  \n",
       "4        {'Armedcon': -0.23}             {'Democ': -0.17}  \n",
       "5   {'Phys_secF_2019': 0.22}    {'Property_rights': 0.17}  "
      ]
     },
     "execution_count": 35,
     "metadata": {},
     "output_type": "execute_result"
    }
   ],
   "source": [
    "loadings_df = pd.DataFrame(pca.components_, columns=features, index=[f'PC{i+1}' for i in range(6)]).T\n",
    "\n",
    "top_features_per_component = {}\n",
    "for component in loadings_df.columns:\n",
    "    top_features_values = loadings_df[component].loc[loadings_df[component].apply(np.abs).nlargest(6).index]\n",
    "    top_features = top_features_values.index.tolist()\n",
    "    top_values = top_features_values.values.tolist()\n",
    "    top_features_per_component[component] = [{feature: round(value, 2)} for feature, value in zip(top_features, top_values)]\n",
    "\n",
    "top_features_df = pd.DataFrame(top_features_per_component)\n",
    "top_features_df"
   ]
  },
  {
   "attachments": {},
   "cell_type": "markdown",
   "metadata": {},
   "source": [
    "### Based on the above table indicating the wights of the top features per component, we could claim the following assumptions:\n",
    "* `PC1`: Represents a mix of socio-economic development and conflict factors. It includes access to non-solid fuels, freedom of movement for women, armed conflict, piped water, Internet use, and the prevalence of stunting in under-5s. It may represent the `general living conditions and access to basic resources` in a country.\n",
    "\n",
    "* `PC2`: Represents a combination of political and conflict-related factors, as well as access to resources. It includes democracy, minority rule, armed conflict, access to non-solid fuels, the level of liberal democracy, and the prevalence of rape in enclaves. It may represent the `political environment and the stability of a country`.\n",
    "\n",
    "* `PC3`: Reflects factors related to conflict, political structure, and violence. It includes the occurrence of mass killings, democracy, prevalence of rape in enclaves, armed conflict, ongoing mass killings, and minority rule. It may represent the `level of violence and political instability` in a country.\n",
    "\n",
    "* `PC4`: Captures factors related to personal freedom, security, inequality, and economic growth. It includes freedom of movement for women, physical security for women in 2019, inequality, minority rule, GDP per capita growth, and ongoing mass killings. It may represent the `overall well-being and security` in a country.\n",
    "\n",
    "* `PC5`: Represents a mix of political, conflict-related, and women-related factors. It includes democracy, the prevalence of rape reported in 2015, freedom of movement for women, female labor force participation relative to males, armed conflict, and physical security for women in 2019. It may represent the `level of gender equality and political stability, as well as quality of life for women` in a country.\n",
    "\n",
    "* `PC6`: Reflects factors related to political power distribution, personal freedom, gender equality, and violence. It includes minority rule, the distribution of power by social group, freedom of movement for women, gender equality in 2015, occurrence of mass killings, and restrictions on political candidates. It may represent the `overall balance of power and inclusiveness in a country's political system`."
   ]
  },
  {
   "attachments": {},
   "cell_type": "markdown",
   "metadata": {},
   "source": [
    "Now, we'll train and evaluate the models on the PCA-derived features"
   ]
  },
  {
   "cell_type": "code",
   "execution_count": 36,
   "metadata": {},
   "outputs": [
    {
     "name": "stdout",
     "output_type": "stream",
     "text": [
      "* Linear Regression - MAE 2016 (PCA): 1740.96, MAE 2018 (PCA): 1757.54\n",
      "* Ridge Regression - MAE 2016 (PCA): 1570.84, MAE 2018 (PCA): 1629.77\n",
      "* Lasso Regression - MAE 2016 (PCA): 0.39, MAE 2018 (PCA): 0.41\n",
      "* Decision Tree - MAE 2016 (PCA): 0.43, MAE 2018 (PCA): 0.40\n",
      "* Random Forest - MAE 2016 (PCA): 0.34, MAE 2018 (PCA): 0.34\n"
     ]
    }
   ],
   "source": [
    "for name, model in models.items():\n",
    "    # Train and evaluate the model for 2016 data\n",
    "    model.fit(X_train_2016_pca, y_train_2016)\n",
    "    y_pred_2016_pca = model.predict(X_test_2016_pca)\n",
    "    mae_2016_pca = mean_absolute_error(y_test_2016, y_pred_2016_pca)\n",
    "    \n",
    "    # Train and evaluate the model for 2018 data\n",
    "    model.fit(X_train_2018_pca, y_train_2018)\n",
    "    y_pred_2018_pca = model.predict(X_test_2018_pca)\n",
    "    mae_2018_pca = mean_absolute_error(y_test_2018, y_pred_2018_pca)\n",
    "    \n",
    "    print(f\"* {name} - MAE 2016 (PCA): {mae_2016_pca:.2f}, MAE 2018 (PCA): {mae_2018_pca:.2f}\")\n"
   ]
  },
  {
   "attachments": {},
   "cell_type": "markdown",
   "metadata": {},
   "source": [
    "We observe an improved MAE in most models\n",
    "### Variable Importance"
   ]
  },
  {
   "attachments": {},
   "cell_type": "markdown",
   "metadata": {},
   "source": [
    "#### `Decision Tree Variable Importance`"
   ]
  },
  {
   "cell_type": "code",
   "execution_count": 37,
   "metadata": {},
   "outputs": [
    {
     "name": "stdout",
     "output_type": "stream",
     "text": [
      "Decision Tree - Top 10 Feature Importances:\n",
      "* Component_1: 0.5441\n",
      "* Component_2: 0.2047\n",
      "* Component_3: 0.0136\n",
      "* Component_4: 0.1223\n",
      "* Component_5: 0.0694\n",
      "* Component_6: 0.0459\n"
     ]
    }
   ],
   "source": [
    "importances_dt = models['Decision Tree'].feature_importances_\n",
    "import_dt_dict  = dict()\n",
    "print(\"Decision Tree - Top 10 Feature Importances:\")\n",
    "for idx, i in enumerate(importances_dt):\n",
    "    print(f\"* Component_{idx+1}: {i:.4f}\")\n",
    "    import_dt_dict[f\"Component_{idx+1}\"] = i"
   ]
  },
  {
   "attachments": {},
   "cell_type": "markdown",
   "metadata": {},
   "source": [
    "#### `Random Forest Variable Importance`"
   ]
  },
  {
   "cell_type": "code",
   "execution_count": 38,
   "metadata": {},
   "outputs": [
    {
     "name": "stdout",
     "output_type": "stream",
     "text": [
      "Random Forest - Top 10 Feature Importances:\n",
      "* Component_1: 0.5504\n",
      "* Component_2: 0.1297\n",
      "* Component_3: 0.1448\n",
      "* Component_4: 0.0253\n",
      "* Component_5: 0.0778\n",
      "* Component_6: 0.0719\n"
     ]
    }
   ],
   "source": [
    "importances_rf = models['Random Forest'].feature_importances_\n",
    "import_rf_dict  = dict()\n",
    "print(\"Random Forest - Top 10 Feature Importances:\")\n",
    "for idx, i in enumerate(importances_rf):\n",
    "    print(f\"* Component_{idx+1}: {i:.4f}\")\n",
    "    import_rf_dict[f\"Component_{idx+1}\"] = i"
   ]
  },
  {
   "attachments": {},
   "cell_type": "markdown",
   "metadata": {},
   "source": [
    "As expected, the first 3 components (explaining the most variability of the dataset) pay the greater role on predicting \"SLAVERY\". We can observe that the $5th$ component is taken into account as well, indicating that living conditions for women in a country as well as the political stability of it, might be significant factors to uprising of slavery in the country.\n",
    "The first three components, as we discussed before, propose a mixture of general living conditions, access to resources, political instability and levels of violence in a country. Our models tend to take into account factors related to those matters in order to predict slavery, so in conclusion, the raise or reduction of variables related to such instances, configure the levels of slavery in the region, with perhaps the most significant one those having to do with access to resources,and general living conditions such as access to non-solid fuels, freedom of movement for women, armed conflict, piped water and Internet use.\n",
    "* We can understand that on countries suffering from war conditions, slavery is a common phenomenon, as well as in regimes that deny peoples's and more particularly women's rights. \n",
    "* Furthermore, lack of internet use means lack of information, innovation and eventually education - factors that are crucial for the reformation of conditions of living and mentality of people.\n",
    "* Eventually, the disability of accessing basic resources like clean piped water or fuels are amongst the main ingredients that lead to poverty and poor living conditions, eventually contributing to the raise of levels of exploitation of people.\n"
   ]
  }
 ],
 "metadata": {
  "kernelspec": {
   "display_name": ".venv",
   "language": "python",
   "name": "python3"
  },
  "language_info": {
   "codemirror_mode": {
    "name": "ipython",
    "version": 3
   },
   "file_extension": ".py",
   "mimetype": "text/x-python",
   "name": "python",
   "nbconvert_exporter": "python",
   "pygments_lexer": "ipython3",
   "version": "3.9.13"
  },
  "orig_nbformat": 4
 },
 "nbformat": 4,
 "nbformat_minor": 2
}
